{
 "cells": [
  {
   "cell_type": "code",
   "execution_count": 1,
   "metadata": {
    "collapsed": true
   },
   "outputs": [],
   "source": [
    "import numpy as np\n",
    "import pandas as pd\n",
    "import seaborn as sns\n",
    "from IPython.display import display\n",
    "import math\n",
    "\n",
    "from sklearn.ensemble import RandomForestClassifier\n",
    "from sklearn.metrics import accuracy_score\n",
    "from sklearn.tree import DecisionTreeClassifier\n",
    "from sklearn.ensemble import RandomForestClassifier, ExtraTreesClassifier\n",
    "from sklearn.ensemble import AdaBoostClassifier\n",
    "from sklearn.linear_model import LogisticRegression\n",
    "\n",
    "from sklearn.metrics import roc_auc_score, mean_squared_error\n",
    "from sklearn.preprocessing import LabelEncoder, OneHotEncoder"
   ]
  },
  {
   "cell_type": "code",
   "execution_count": 2,
   "metadata": {},
   "outputs": [
    {
     "name": "stderr",
     "output_type": "stream",
     "text": [
      "D:\\Anaconda\\lib\\site-packages\\sklearn\\cross_validation.py:41: DeprecationWarning: This module was deprecated in version 0.18 in favor of the model_selection module into which all the refactored classes and functions are moved. Also note that the interface of the new CV iterators are different from that of this module. This module will be removed in 0.20.\n",
      "  \"This module will be removed in 0.20.\", DeprecationWarning)\n"
     ]
    }
   ],
   "source": [
    "import scipy.sparse\n",
    "import pickle\n",
    "import xgboost as xgb\n",
    "from xgboost import plot_importance\n",
    "from matplotlib import pyplot\n",
    "from sklearn.feature_extraction.text import CountVectorizer"
   ]
  },
  {
   "cell_type": "code",
   "execution_count": 3,
   "metadata": {},
   "outputs": [
    {
     "name": "stderr",
     "output_type": "stream",
     "text": [
      "D:\\Anaconda\\lib\\site-packages\\sklearn\\grid_search.py:42: DeprecationWarning: This module was deprecated in version 0.18 in favor of the model_selection module into which all the refactored classes and functions are moved. This module will be removed in 0.20.\n",
      "  DeprecationWarning)\n"
     ]
    }
   ],
   "source": [
    "#from xgboost.sklearn import XGBClassifier\n",
    "from sklearn import cross_validation, metrics   #Additional     scklearn functions\n",
    "from sklearn.grid_search import GridSearchCV   #Perforing grid search\n",
    "\n",
    "import matplotlib.pylab as plt\n",
    "%matplotlib inline"
   ]
  },
  {
   "cell_type": "code",
   "execution_count": 31,
   "metadata": {
    "collapsed": true
   },
   "outputs": [],
   "source": [
    "df_train = pd.read_csv(\"train.csv\", sep=',')\n",
    "df_val = pd.read_csv(\"validation.csv\", sep=',')\n",
    "df_test = pd.read_csv(\"test.csv\", sep=',')"
   ]
  },
  {
   "cell_type": "code",
   "execution_count": 5,
   "metadata": {},
   "outputs": [
    {
     "data": {
      "text/plain": [
       "Index(['click', 'weekday', 'hour', 'bidid', 'userid', 'useragent', 'IP',\n",
       "       'region', 'city', 'adexchange', 'domain', 'url', 'urlid', 'slotid',\n",
       "       'slotwidth', 'slotheight', 'slotvisibility', 'slotformat', 'slotprice',\n",
       "       'creative', 'bidprice', 'payprice', 'keypage', 'advertiser', 'usertag'],\n",
       "      dtype='object')"
      ]
     },
     "execution_count": 5,
     "metadata": {},
     "output_type": "execute_result"
    }
   ],
   "source": [
    "df_train.columns"
   ]
  },
  {
   "cell_type": "code",
   "execution_count": 6,
   "metadata": {},
   "outputs": [
    {
     "data": {
      "text/plain": [
       "7"
      ]
     },
     "execution_count": 6,
     "metadata": {},
     "output_type": "execute_result"
    }
   ],
   "source": [
    "len(df_train.weekday.unique())"
   ]
  },
  {
   "cell_type": "code",
   "execution_count": 7,
   "metadata": {},
   "outputs": [
    {
     "data": {
      "text/plain": [
       "38"
      ]
     },
     "execution_count": 7,
     "metadata": {},
     "output_type": "execute_result"
    }
   ],
   "source": [
    "len(df_train.useragent.unique())"
   ]
  },
  {
   "cell_type": "code",
   "execution_count": 8,
   "metadata": {},
   "outputs": [
    {
     "data": {
      "text/plain": [
       "35"
      ]
     },
     "execution_count": 8,
     "metadata": {},
     "output_type": "execute_result"
    }
   ],
   "source": [
    "len(df_train.region.unique())"
   ]
  },
  {
   "cell_type": "code",
   "execution_count": 9,
   "metadata": {},
   "outputs": [
    {
     "data": {
      "text/plain": [
       "21"
      ]
     },
     "execution_count": 9,
     "metadata": {},
     "output_type": "execute_result"
    }
   ],
   "source": [
    "len(df_train.slotwidth.unique())"
   ]
  },
  {
   "cell_type": "code",
   "execution_count": 10,
   "metadata": {},
   "outputs": [
    {
     "data": {
      "text/plain": [
       "14"
      ]
     },
     "execution_count": 10,
     "metadata": {},
     "output_type": "execute_result"
    }
   ],
   "source": [
    "len(df_train.slotheight.unique())"
   ]
  },
  {
   "cell_type": "code",
   "execution_count": 11,
   "metadata": {},
   "outputs": [
    {
     "data": {
      "text/plain": [
       "11"
      ]
     },
     "execution_count": 11,
     "metadata": {},
     "output_type": "execute_result"
    }
   ],
   "source": [
    "len(df_train.slotvisibility.unique())"
   ]
  },
  {
   "cell_type": "code",
   "execution_count": 12,
   "metadata": {},
   "outputs": [
    {
     "data": {
      "text/plain": [
       "4"
      ]
     },
     "execution_count": 12,
     "metadata": {},
     "output_type": "execute_result"
    }
   ],
   "source": [
    "len(df_train.slotformat.unique())"
   ]
  },
  {
   "cell_type": "code",
   "execution_count": 13,
   "metadata": {},
   "outputs": [
    {
     "data": {
      "text/plain": [
       "744036"
      ]
     },
     "execution_count": 13,
     "metadata": {},
     "output_type": "execute_result"
    }
   ],
   "source": [
    "len(df_train.usertag.unique())"
   ]
  },
  {
   "cell_type": "code",
   "execution_count": 5,
   "metadata": {},
   "outputs": [
    {
     "data": {
      "text/plain": [
       "array(['windows_ie', 'windows_chrome', 'mac_other', 'windows_other',\n",
       "       'android_safari', 'mac_safari', 'windows_maxthon',\n",
       "       'windows_firefox', 'mac_chrome', 'linux_firefox', 'windows_opera',\n",
       "       'windows_theworld', 'android_other', 'windows_safari', 'ios_safari',\n",
       "       'linux_other', 'mac_firefox', 'android_opera', 'mac_maxthon',\n",
       "       'other_other', 'android_chrome', 'linux_chrome', 'other_opera',\n",
       "       'linux_safari', 'other_ie', 'ios_other', 'linux_opera',\n",
       "       'android_sogou', 'other_safari', 'windows_sogou', 'mac_opera',\n",
       "       'mac_sogou', 'android_maxthon', 'android_firefox', 'linux_ie',\n",
       "       'other_chrome', 'android_ie', 'other_firefox'], dtype=object)"
      ]
     },
     "execution_count": 5,
     "metadata": {},
     "output_type": "execute_result"
    }
   ],
   "source": [
    "df_train.useragent.unique()"
   ]
  },
  {
   "cell_type": "markdown",
   "metadata": {},
   "source": [
    "# Data Processing"
   ]
  },
  {
   "cell_type": "code",
   "execution_count": 21,
   "metadata": {
    "collapsed": true
   },
   "outputs": [],
   "source": [
    "#One hot variables\n",
    "def pipeline(data):\n",
    "    one_hot_features = ['useragent','adexchange','slotvisibility','slotformat']\n",
    "    new_df = pd.get_dummies(data[one_hot_features])\n",
    "    \n",
    "    weekday = pd.get_dummies(data[\"weekday\"], prefix='weekday_')\n",
    "    hour = pd.get_dummies(data[\"hour\"], prefix='hour_')\n",
    "    region = pd.get_dummies(data[\"region\"], prefix='region_')\n",
    "    city = pd.get_dummies(data[\"city\"], prefix='city_')\n",
    "    slotwidth = pd.get_dummies(data[\"slotwidth\"], prefix='slotwidth_')\n",
    "    slotheight = pd.get_dummies(data[\"slotheight\"], prefix='slotheight_')\n",
    "    advertiser = pd.get_dummies(data['advertiser'], prefix='advertiser_')\n",
    "\n",
    "    new_df = pd.concat([new_df,data['slotprice'], weekday, hour, region,city,slotwidth, slotheight, advertiser],axis=1)\n",
    "    \n",
    "    labelencoder_X_1 = LabelEncoder()\n",
    "    new_df.useragent = labelencoder_X_1.fit_transform(data.useragent)\n",
    "    labelencoder_X_2 = LabelEncoder()\n",
    "    new_df.slotformat = labelencoder_X_2.fit_transform(data.slotformat)\n",
    "    labelencoder_X_3 = LabelEncoder()\n",
    "    new_df.usertag = labelencoder_X_3.fit_transform(data.usertag)\n",
    "    \n",
    "    new_df = pd.concat([new_df,data.click],axis=1)\n",
    "    \n",
    "    \n",
    "    return new_df"
   ]
  },
  {
   "cell_type": "code",
   "execution_count": 22,
   "metadata": {},
   "outputs": [],
   "source": [
    "df_train = pipeline(df_train)"
   ]
  },
  {
   "cell_type": "code",
   "execution_count": 23,
   "metadata": {},
   "outputs": [
    {
     "data": {
      "text/plain": [
       "(2430981, 540)"
      ]
     },
     "execution_count": 23,
     "metadata": {},
     "output_type": "execute_result"
    }
   ],
   "source": [
    "df_train.shape"
   ]
  },
  {
   "cell_type": "code",
   "execution_count": 24,
   "metadata": {
    "collapsed": true
   },
   "outputs": [],
   "source": [
    "df_val = pipeline(df_val)"
   ]
  },
  {
   "cell_type": "code",
   "execution_count": 25,
   "metadata": {},
   "outputs": [
    {
     "data": {
      "text/plain": [
       "(303925, 537)"
      ]
     },
     "execution_count": 25,
     "metadata": {},
     "output_type": "execute_result"
    }
   ],
   "source": [
    "df_val.shape"
   ]
  },
  {
   "cell_type": "code",
   "execution_count": 32,
   "metadata": {
    "collapsed": true
   },
   "outputs": [],
   "source": [
    "#One hot variables\n",
    "def pipeline2(data):\n",
    "    one_hot_features = ['useragent','adexchange','slotvisibility','slotformat']\n",
    "    new_df = pd.get_dummies(data[one_hot_features])\n",
    "    \n",
    "    weekday = pd.get_dummies(data[\"weekday\"], prefix='weekday_')\n",
    "    hour = pd.get_dummies(data[\"hour\"], prefix='hour_')\n",
    "    region = pd.get_dummies(data[\"region\"], prefix='region_')\n",
    "    city = pd.get_dummies(data[\"city\"], prefix='city_')\n",
    "    slotwidth = pd.get_dummies(data[\"slotwidth\"], prefix='slotwidth_')\n",
    "    slotheight = pd.get_dummies(data[\"slotheight\"], prefix='slotheight_')\n",
    "    advertiser = pd.get_dummies(data['advertiser'], prefix='advertiser_')\n",
    "\n",
    "    new_df = pd.concat([new_df,data['slotprice'], weekday,city, hour, region, slotwidth, slotheight, advertiser],axis=1)\n",
    "    \n",
    "    labelencoder_X_1 = LabelEncoder()\n",
    "    new_df.useragent = labelencoder_X_1.fit_transform(data.useragent)\n",
    "    labelencoder_X_2 = LabelEncoder()\n",
    "    new_df.slotformat = labelencoder_X_2.fit_transform(data.slotformat)\n",
    "    labelencoder_X_3 = LabelEncoder()\n",
    "    new_df.usertag = labelencoder_X_3.fit_transform(data.usertag)\n",
    "    \n",
    "\n",
    "    return new_df"
   ]
  },
  {
   "cell_type": "code",
   "execution_count": 33,
   "metadata": {},
   "outputs": [],
   "source": [
    "df_test = pipeline2(df_test)"
   ]
  },
  {
   "cell_type": "code",
   "execution_count": 34,
   "metadata": {},
   "outputs": [
    {
     "data": {
      "text/plain": [
       "(303375, 534)"
      ]
     },
     "execution_count": 34,
     "metadata": {},
     "output_type": "execute_result"
    }
   ],
   "source": [
    "df_test.shape"
   ]
  },
  {
   "cell_type": "code",
   "execution_count": 35,
   "metadata": {},
   "outputs": [
    {
     "data": {
      "text/html": [
       "<div>\n",
       "<style>\n",
       "    .dataframe thead tr:only-child th {\n",
       "        text-align: right;\n",
       "    }\n",
       "\n",
       "    .dataframe thead th {\n",
       "        text-align: left;\n",
       "    }\n",
       "\n",
       "    .dataframe tbody tr th {\n",
       "        vertical-align: top;\n",
       "    }\n",
       "</style>\n",
       "<table border=\"1\" class=\"dataframe\">\n",
       "  <thead>\n",
       "    <tr style=\"text-align: right;\">\n",
       "      <th></th>\n",
       "      <th>useragent_android_chrome</th>\n",
       "      <th>useragent_android_firefox</th>\n",
       "      <th>useragent_android_ie</th>\n",
       "      <th>useragent_android_maxthon</th>\n",
       "      <th>useragent_android_opera</th>\n",
       "      <th>useragent_android_other</th>\n",
       "      <th>useragent_android_safari</th>\n",
       "      <th>useragent_android_sogou</th>\n",
       "      <th>useragent_ios_other</th>\n",
       "      <th>useragent_ios_safari</th>\n",
       "      <th>...</th>\n",
       "      <th>advertiser__1458</th>\n",
       "      <th>advertiser__2259</th>\n",
       "      <th>advertiser__2261</th>\n",
       "      <th>advertiser__2821</th>\n",
       "      <th>advertiser__2997</th>\n",
       "      <th>advertiser__3358</th>\n",
       "      <th>advertiser__3386</th>\n",
       "      <th>advertiser__3427</th>\n",
       "      <th>advertiser__3476</th>\n",
       "      <th>click</th>\n",
       "    </tr>\n",
       "  </thead>\n",
       "  <tbody>\n",
       "    <tr>\n",
       "      <th>0</th>\n",
       "      <td>0</td>\n",
       "      <td>0</td>\n",
       "      <td>0</td>\n",
       "      <td>0</td>\n",
       "      <td>0</td>\n",
       "      <td>0</td>\n",
       "      <td>0</td>\n",
       "      <td>0</td>\n",
       "      <td>0</td>\n",
       "      <td>0</td>\n",
       "      <td>...</td>\n",
       "      <td>0</td>\n",
       "      <td>0</td>\n",
       "      <td>0</td>\n",
       "      <td>0</td>\n",
       "      <td>0</td>\n",
       "      <td>0</td>\n",
       "      <td>0</td>\n",
       "      <td>1</td>\n",
       "      <td>0</td>\n",
       "      <td>0</td>\n",
       "    </tr>\n",
       "    <tr>\n",
       "      <th>1</th>\n",
       "      <td>0</td>\n",
       "      <td>0</td>\n",
       "      <td>0</td>\n",
       "      <td>0</td>\n",
       "      <td>0</td>\n",
       "      <td>0</td>\n",
       "      <td>0</td>\n",
       "      <td>0</td>\n",
       "      <td>0</td>\n",
       "      <td>0</td>\n",
       "      <td>...</td>\n",
       "      <td>0</td>\n",
       "      <td>0</td>\n",
       "      <td>0</td>\n",
       "      <td>1</td>\n",
       "      <td>0</td>\n",
       "      <td>0</td>\n",
       "      <td>0</td>\n",
       "      <td>0</td>\n",
       "      <td>0</td>\n",
       "      <td>0</td>\n",
       "    </tr>\n",
       "    <tr>\n",
       "      <th>2</th>\n",
       "      <td>0</td>\n",
       "      <td>0</td>\n",
       "      <td>0</td>\n",
       "      <td>0</td>\n",
       "      <td>0</td>\n",
       "      <td>0</td>\n",
       "      <td>0</td>\n",
       "      <td>0</td>\n",
       "      <td>0</td>\n",
       "      <td>0</td>\n",
       "      <td>...</td>\n",
       "      <td>0</td>\n",
       "      <td>0</td>\n",
       "      <td>0</td>\n",
       "      <td>0</td>\n",
       "      <td>0</td>\n",
       "      <td>0</td>\n",
       "      <td>0</td>\n",
       "      <td>1</td>\n",
       "      <td>0</td>\n",
       "      <td>0</td>\n",
       "    </tr>\n",
       "    <tr>\n",
       "      <th>3</th>\n",
       "      <td>0</td>\n",
       "      <td>0</td>\n",
       "      <td>0</td>\n",
       "      <td>0</td>\n",
       "      <td>0</td>\n",
       "      <td>0</td>\n",
       "      <td>0</td>\n",
       "      <td>0</td>\n",
       "      <td>0</td>\n",
       "      <td>0</td>\n",
       "      <td>...</td>\n",
       "      <td>1</td>\n",
       "      <td>0</td>\n",
       "      <td>0</td>\n",
       "      <td>0</td>\n",
       "      <td>0</td>\n",
       "      <td>0</td>\n",
       "      <td>0</td>\n",
       "      <td>0</td>\n",
       "      <td>0</td>\n",
       "      <td>0</td>\n",
       "    </tr>\n",
       "    <tr>\n",
       "      <th>4</th>\n",
       "      <td>0</td>\n",
       "      <td>0</td>\n",
       "      <td>0</td>\n",
       "      <td>0</td>\n",
       "      <td>0</td>\n",
       "      <td>0</td>\n",
       "      <td>0</td>\n",
       "      <td>0</td>\n",
       "      <td>0</td>\n",
       "      <td>0</td>\n",
       "      <td>...</td>\n",
       "      <td>0</td>\n",
       "      <td>1</td>\n",
       "      <td>0</td>\n",
       "      <td>0</td>\n",
       "      <td>0</td>\n",
       "      <td>0</td>\n",
       "      <td>0</td>\n",
       "      <td>0</td>\n",
       "      <td>0</td>\n",
       "      <td>0</td>\n",
       "    </tr>\n",
       "  </tbody>\n",
       "</table>\n",
       "<p>5 rows × 540 columns</p>\n",
       "</div>"
      ],
      "text/plain": [
       "   useragent_android_chrome  useragent_android_firefox  useragent_android_ie  \\\n",
       "0                         0                          0                     0   \n",
       "1                         0                          0                     0   \n",
       "2                         0                          0                     0   \n",
       "3                         0                          0                     0   \n",
       "4                         0                          0                     0   \n",
       "\n",
       "   useragent_android_maxthon  useragent_android_opera  \\\n",
       "0                          0                        0   \n",
       "1                          0                        0   \n",
       "2                          0                        0   \n",
       "3                          0                        0   \n",
       "4                          0                        0   \n",
       "\n",
       "   useragent_android_other  useragent_android_safari  useragent_android_sogou  \\\n",
       "0                        0                         0                        0   \n",
       "1                        0                         0                        0   \n",
       "2                        0                         0                        0   \n",
       "3                        0                         0                        0   \n",
       "4                        0                         0                        0   \n",
       "\n",
       "   useragent_ios_other  useragent_ios_safari  ...    advertiser__1458  \\\n",
       "0                    0                     0  ...                   0   \n",
       "1                    0                     0  ...                   0   \n",
       "2                    0                     0  ...                   0   \n",
       "3                    0                     0  ...                   1   \n",
       "4                    0                     0  ...                   0   \n",
       "\n",
       "   advertiser__2259  advertiser__2261  advertiser__2821  advertiser__2997  \\\n",
       "0                 0                 0                 0                 0   \n",
       "1                 0                 0                 1                 0   \n",
       "2                 0                 0                 0                 0   \n",
       "3                 0                 0                 0                 0   \n",
       "4                 1                 0                 0                 0   \n",
       "\n",
       "   advertiser__3358  advertiser__3386  advertiser__3427  advertiser__3476  \\\n",
       "0                 0                 0                 1                 0   \n",
       "1                 0                 0                 0                 0   \n",
       "2                 0                 0                 1                 0   \n",
       "3                 0                 0                 0                 0   \n",
       "4                 0                 0                 0                 0   \n",
       "\n",
       "   click  \n",
       "0      0  \n",
       "1      0  \n",
       "2      0  \n",
       "3      0  \n",
       "4      0  \n",
       "\n",
       "[5 rows x 540 columns]"
      ]
     },
     "execution_count": 35,
     "metadata": {},
     "output_type": "execute_result"
    }
   ],
   "source": [
    "df_train.head()"
   ]
  },
  {
   "cell_type": "code",
   "execution_count": 36,
   "metadata": {
    "collapsed": true
   },
   "outputs": [],
   "source": [
    "# Features list of all three datasets\n",
    "train_features = list(df_train)\n",
    "train_features.remove('click')\n",
    "val_features = list(df_val)\n",
    "val_features.remove('click')\n",
    "test_features = list(df_test)"
   ]
  },
  {
   "cell_type": "code",
   "execution_count": 37,
   "metadata": {},
   "outputs": [
    {
     "name": "stdout",
     "output_type": "stream",
     "text": [
      "No. of features in training set 539\n",
      "No. of features in validation set 536\n",
      "No. of features in test set 534\n"
     ]
    }
   ],
   "source": [
    "print('No. of features in training set', len(train_features))\n",
    "print('No. of features in validation set', len(val_features))\n",
    "print('No. of features in test set', len(test_features))"
   ]
  },
  {
   "cell_type": "code",
   "execution_count": 38,
   "metadata": {},
   "outputs": [
    {
     "name": "stdout",
     "output_type": "stream",
     "text": [
      "Whether the train and val have the same one-hot features?\n",
      "False\n",
      " \n",
      "Missing features:\n",
      "['useragent_other_firefox', 'useragent_android_maxthon', 'useragent_android_ie']\n"
     ]
    }
   ],
   "source": [
    "from collections import Counter\n",
    "print('Whether the train and val have the same one-hot features?')\n",
    "print(Counter(train_features) == Counter(val_features))\n",
    "if Counter(train_features) != Counter(val_features):\n",
    "    print(' ')\n",
    "    print('Missing features:')\n",
    "    print(list(set(train_features) - set(val_features)))"
   ]
  },
  {
   "cell_type": "code",
   "execution_count": 39,
   "metadata": {},
   "outputs": [
    {
     "name": "stdout",
     "output_type": "stream",
     "text": [
      "Whether the train and test have the same one-hot features?\n",
      "False\n",
      " \n",
      "Missing features:\n",
      "['useragent_mac_sogou', 'useragent_mac_maxthon', 'useragent_other_firefox', 'useragent_linux_ie', 'useragent_android_ie']\n"
     ]
    }
   ],
   "source": [
    "print('Whether the train and test have the same one-hot features?')\n",
    "print(Counter(train_features) == Counter(test_features))\n",
    "if Counter(train_features) != Counter(test_features):\n",
    "    print(' ')\n",
    "    print('Missing features:')\n",
    "    print(list(set(train_features) - set(test_features)))"
   ]
  },
  {
   "cell_type": "code",
   "execution_count": 40,
   "metadata": {
    "collapsed": true
   },
   "outputs": [],
   "source": [
    "# Final features selection for train and validation\n",
    "\n",
    "features = list(df_train)\n",
    "remove_feature = ['bidprice', 'payprice', 'useragent_android_ie', 'useragent_other_firefox', 'useragent_android_maxthon',\n",
    "              'useragent_linux_ie', 'useragent_mac_sogou', 'useragent_other_firefox', 'useragent_android_ie', 'useragent_mac_maxthon']\n",
    "feature_new = [feature for feature in features if (feature not in remove_feature)]"
   ]
  },
  {
   "cell_type": "code",
   "execution_count": 41,
   "metadata": {
    "collapsed": true
   },
   "outputs": [],
   "source": [
    "train_sample = df_train.sample(frac=0.3, random_state = 2)"
   ]
  },
  {
   "cell_type": "code",
   "execution_count": 21,
   "metadata": {},
   "outputs": [
    {
     "data": {
      "text/html": [
       "<div>\n",
       "<style>\n",
       "    .dataframe thead tr:only-child th {\n",
       "        text-align: right;\n",
       "    }\n",
       "\n",
       "    .dataframe thead th {\n",
       "        text-align: left;\n",
       "    }\n",
       "\n",
       "    .dataframe tbody tr th {\n",
       "        vertical-align: top;\n",
       "    }\n",
       "</style>\n",
       "<table border=\"1\" class=\"dataframe\">\n",
       "  <thead>\n",
       "    <tr style=\"text-align: right;\">\n",
       "      <th></th>\n",
       "      <th>useragent_android_chrome</th>\n",
       "      <th>useragent_android_firefox</th>\n",
       "      <th>useragent_android_ie</th>\n",
       "      <th>useragent_android_maxthon</th>\n",
       "      <th>useragent_android_opera</th>\n",
       "      <th>useragent_android_other</th>\n",
       "      <th>useragent_android_safari</th>\n",
       "      <th>useragent_android_sogou</th>\n",
       "      <th>useragent_ios_other</th>\n",
       "      <th>useragent_ios_safari</th>\n",
       "      <th>...</th>\n",
       "      <th>slotheight__600</th>\n",
       "      <th>advertiser__1458</th>\n",
       "      <th>advertiser__2259</th>\n",
       "      <th>advertiser__2261</th>\n",
       "      <th>advertiser__2821</th>\n",
       "      <th>advertiser__2997</th>\n",
       "      <th>advertiser__3358</th>\n",
       "      <th>advertiser__3386</th>\n",
       "      <th>advertiser__3427</th>\n",
       "      <th>advertiser__3476</th>\n",
       "    </tr>\n",
       "    <tr>\n",
       "      <th>click</th>\n",
       "      <th></th>\n",
       "      <th></th>\n",
       "      <th></th>\n",
       "      <th></th>\n",
       "      <th></th>\n",
       "      <th></th>\n",
       "      <th></th>\n",
       "      <th></th>\n",
       "      <th></th>\n",
       "      <th></th>\n",
       "      <th></th>\n",
       "      <th></th>\n",
       "      <th></th>\n",
       "      <th></th>\n",
       "      <th></th>\n",
       "      <th></th>\n",
       "      <th></th>\n",
       "      <th></th>\n",
       "      <th></th>\n",
       "      <th></th>\n",
       "      <th></th>\n",
       "    </tr>\n",
       "  </thead>\n",
       "  <tbody>\n",
       "    <tr>\n",
       "      <th>0</th>\n",
       "      <td>728758</td>\n",
       "      <td>728758</td>\n",
       "      <td>728758</td>\n",
       "      <td>728758</td>\n",
       "      <td>728758</td>\n",
       "      <td>728758</td>\n",
       "      <td>728758</td>\n",
       "      <td>728758</td>\n",
       "      <td>728758</td>\n",
       "      <td>728758</td>\n",
       "      <td>...</td>\n",
       "      <td>728758</td>\n",
       "      <td>728758</td>\n",
       "      <td>728758</td>\n",
       "      <td>728758</td>\n",
       "      <td>728758</td>\n",
       "      <td>728758</td>\n",
       "      <td>728758</td>\n",
       "      <td>728758</td>\n",
       "      <td>728758</td>\n",
       "      <td>728758</td>\n",
       "    </tr>\n",
       "    <tr>\n",
       "      <th>1</th>\n",
       "      <td>536</td>\n",
       "      <td>536</td>\n",
       "      <td>536</td>\n",
       "      <td>536</td>\n",
       "      <td>536</td>\n",
       "      <td>536</td>\n",
       "      <td>536</td>\n",
       "      <td>536</td>\n",
       "      <td>536</td>\n",
       "      <td>536</td>\n",
       "      <td>...</td>\n",
       "      <td>536</td>\n",
       "      <td>536</td>\n",
       "      <td>536</td>\n",
       "      <td>536</td>\n",
       "      <td>536</td>\n",
       "      <td>536</td>\n",
       "      <td>536</td>\n",
       "      <td>536</td>\n",
       "      <td>536</td>\n",
       "      <td>536</td>\n",
       "    </tr>\n",
       "  </tbody>\n",
       "</table>\n",
       "<p>2 rows × 169 columns</p>\n",
       "</div>"
      ],
      "text/plain": [
       "       useragent_android_chrome  useragent_android_firefox  \\\n",
       "click                                                        \n",
       "0                        728758                     728758   \n",
       "1                           536                        536   \n",
       "\n",
       "       useragent_android_ie  useragent_android_maxthon  \\\n",
       "click                                                    \n",
       "0                    728758                     728758   \n",
       "1                       536                        536   \n",
       "\n",
       "       useragent_android_opera  useragent_android_other  \\\n",
       "click                                                     \n",
       "0                       728758                   728758   \n",
       "1                          536                      536   \n",
       "\n",
       "       useragent_android_safari  useragent_android_sogou  useragent_ios_other  \\\n",
       "click                                                                           \n",
       "0                        728758                   728758               728758   \n",
       "1                           536                      536                  536   \n",
       "\n",
       "       useragent_ios_safari        ...         slotheight__600  \\\n",
       "click                              ...                           \n",
       "0                    728758        ...                  728758   \n",
       "1                       536        ...                     536   \n",
       "\n",
       "       advertiser__1458  advertiser__2259  advertiser__2261  advertiser__2821  \\\n",
       "click                                                                           \n",
       "0                728758            728758            728758            728758   \n",
       "1                   536               536               536               536   \n",
       "\n",
       "       advertiser__2997  advertiser__3358  advertiser__3386  advertiser__3427  \\\n",
       "click                                                                           \n",
       "0                728758            728758            728758            728758   \n",
       "1                   536               536               536               536   \n",
       "\n",
       "       advertiser__3476  \n",
       "click                    \n",
       "0                728758  \n",
       "1                   536  \n",
       "\n",
       "[2 rows x 169 columns]"
      ]
     },
     "execution_count": 21,
     "metadata": {},
     "output_type": "execute_result"
    }
   ],
   "source": [
    "train_sample.groupby('click').count()"
   ]
  },
  {
   "cell_type": "code",
   "execution_count": 42,
   "metadata": {
    "collapsed": true
   },
   "outputs": [],
   "source": [
    "X_train = train_sample[feature_new]\n",
    "y_train = train_sample['click']\n",
    "X_val = df_val[feature_new]\n",
    "y_val = df_val['click']"
   ]
  },
  {
   "cell_type": "code",
   "execution_count": 43,
   "metadata": {
    "collapsed": true
   },
   "outputs": [],
   "source": [
    "features2 = list(df_test)\n",
    "remove_feature = ['bidprice', 'payprice', 'useragent_android_ie', 'useragent_other_firefox', 'useragent_android_maxthon',\n",
    "              'useragent_linux_ie', 'useragent_mac_sogou', 'useragent_other_firefox', 'useragent_android_ie', 'useragent_mac_maxthon']\n",
    "feature_new2 = [feature for feature in features2 if (feature not in remove_feature)]"
   ]
  },
  {
   "cell_type": "code",
   "execution_count": 44,
   "metadata": {
    "collapsed": true
   },
   "outputs": [],
   "source": [
    "X_test = df_test[feature_new2]"
   ]
  },
  {
   "cell_type": "code",
   "execution_count": 45,
   "metadata": {},
   "outputs": [
    {
     "data": {
      "text/plain": [
       "(303375, 533)"
      ]
     },
     "execution_count": 45,
     "metadata": {},
     "output_type": "execute_result"
    }
   ],
   "source": [
    "X_test.shape"
   ]
  },
  {
   "cell_type": "code",
   "execution_count": 46,
   "metadata": {},
   "outputs": [
    {
     "data": {
      "text/plain": [
       "(729294, 534)"
      ]
     },
     "execution_count": 46,
     "metadata": {},
     "output_type": "execute_result"
    }
   ],
   "source": [
    "X_train.shape"
   ]
  },
  {
   "cell_type": "code",
   "execution_count": 49,
   "metadata": {},
   "outputs": [
    {
     "data": {
      "text/plain": [
       "Counter({0: 728758, 1: 536})"
      ]
     },
     "execution_count": 49,
     "metadata": {},
     "output_type": "execute_result"
    }
   ],
   "source": [
    "Counter(X_train.click)"
   ]
  },
  {
   "cell_type": "code",
   "execution_count": 50,
   "metadata": {},
   "outputs": [
    {
     "data": {
      "text/plain": [
       "Counter({0: 303723, 1: 202})"
      ]
     },
     "execution_count": 50,
     "metadata": {},
     "output_type": "execute_result"
    }
   ],
   "source": [
    "Counter(X_val.click)"
   ]
  },
  {
   "cell_type": "markdown",
   "metadata": {},
   "source": [
    "# Random forest"
   ]
  },
  {
   "cell_type": "code",
   "execution_count": 51,
   "metadata": {},
   "outputs": [
    {
     "data": {
      "text/plain": [
       "RandomForestClassifier(bootstrap=True, class_weight=None, criterion='gini',\n",
       "            max_depth=5, max_features='auto', max_leaf_nodes=None,\n",
       "            min_impurity_decrease=0.0, min_impurity_split=None,\n",
       "            min_samples_leaf=1, min_samples_split=2,\n",
       "            min_weight_fraction_leaf=0.0, n_estimators=50, n_jobs=1,\n",
       "            oob_score=False, random_state=None, verbose=0,\n",
       "            warm_start=False)"
      ]
     },
     "execution_count": 51,
     "metadata": {},
     "output_type": "execute_result"
    }
   ],
   "source": [
    "rf_model = RandomForestClassifier(n_estimators=50, criterion='gini', max_depth=5, min_samples_split=2, \\\n",
    "                                  min_samples_leaf=1, min_weight_fraction_leaf=0.0, max_features='auto', \\\n",
    "                                  max_leaf_nodes=None, bootstrap=True, oob_score=False, \\\n",
    "                                  n_jobs=1, random_state=None, verbose=0, warm_start=False, class_weight=None)\n",
    "rf_model.fit(X_train,y_train)"
   ]
  },
  {
   "cell_type": "code",
   "execution_count": 54,
   "metadata": {},
   "outputs": [
    {
     "name": "stdout",
     "output_type": "stream",
     "text": [
      "RMSE 0.021890811022771205\n"
     ]
    }
   ],
   "source": [
    "# Result based on probability of clicking\n",
    "prob = []\n",
    "for a,b in rf_model.predict_proba(X_val):\n",
    "    prob.append(b)\n",
    "\n",
    "#y_pred_rf_prob = prob\n",
    "#auc = roc_auc_score(y_val, y_pred_rf_prob)\n",
    "rmse = math.sqrt(mean_squared_error(y_val, y_pred_rf_prob))\n",
    "#print('AUC:', auc, 'RMSE:',rmse)\n",
    "print ('RMSE', rmse)"
   ]
  },
  {
   "cell_type": "code",
   "execution_count": 42,
   "metadata": {
    "collapsed": true
   },
   "outputs": [],
   "source": [
    "pCTR = pd.DataFrame(prob)"
   ]
  },
  {
   "cell_type": "code",
   "execution_count": 43,
   "metadata": {
    "collapsed": true
   },
   "outputs": [],
   "source": [
    "pCTR.to_csv(\"RF result.csv\")"
   ]
  },
  {
   "cell_type": "code",
   "execution_count": 50,
   "metadata": {
    "collapsed": true
   },
   "outputs": [],
   "source": [
    "pCTR2 = pd.DataFrame(prob2)"
   ]
  },
  {
   "cell_type": "code",
   "execution_count": 51,
   "metadata": {
    "collapsed": true
   },
   "outputs": [],
   "source": [
    "pCTR2.to_csv(\"RF result2.csv\")"
   ]
  },
  {
   "cell_type": "markdown",
   "metadata": {},
   "source": [
    "# ExtraTree Classifier"
   ]
  },
  {
   "cell_type": "code",
   "execution_count": 52,
   "metadata": {},
   "outputs": [
    {
     "data": {
      "text/plain": [
       "ExtraTreesClassifier(bootstrap=False, class_weight=None, criterion='gini',\n",
       "           max_depth=50, max_features='auto', max_leaf_nodes=None,\n",
       "           min_impurity_decrease=0.0, min_impurity_split=None,\n",
       "           min_samples_leaf=1, min_samples_split=2,\n",
       "           min_weight_fraction_leaf=0.0, n_estimators=1000, n_jobs=1,\n",
       "           oob_score=False, random_state=None, verbose=0, warm_start=False)"
      ]
     },
     "execution_count": 52,
     "metadata": {},
     "output_type": "execute_result"
    }
   ],
   "source": [
    "etc_model_full = ExtraTreesClassifier(n_estimators=1000, criterion='gini', max_depth=50, min_samples_split=2,\\\n",
    "                                 min_samples_leaf=1, min_weight_fraction_leaf=0.0, max_features='auto', \\\n",
    "                                 max_leaf_nodes=None, bootstrap=False, oob_score=False, n_jobs=1, random_state=None, verbose=0, \\\n",
    "                                 warm_start=False, class_weight=None)\n",
    "etc_model_full.fit(X_train,y_train)"
   ]
  },
  {
   "cell_type": "code",
   "execution_count": 53,
   "metadata": {},
   "outputs": [
    {
     "ename": "NameError",
     "evalue": "name 'etc_model_full' is not defined",
     "output_type": "error",
     "traceback": [
      "\u001b[1;31m---------------------------------------------------------------------------\u001b[0m",
      "\u001b[1;31mNameError\u001b[0m                                 Traceback (most recent call last)",
      "\u001b[1;32m<ipython-input-53-aa32aba15cc8>\u001b[0m in \u001b[0;36m<module>\u001b[1;34m()\u001b[0m\n\u001b[0;32m      1\u001b[0m \u001b[1;31m# Probability\u001b[0m\u001b[1;33m\u001b[0m\u001b[1;33m\u001b[0m\u001b[0m\n\u001b[0;32m      2\u001b[0m \u001b[0metc_full_pred\u001b[0m \u001b[1;33m=\u001b[0m \u001b[1;33m[\u001b[0m\u001b[1;33m]\u001b[0m\u001b[1;33m\u001b[0m\u001b[0m\n\u001b[1;32m----> 3\u001b[1;33m \u001b[1;32mfor\u001b[0m \u001b[0ma\u001b[0m\u001b[1;33m,\u001b[0m \u001b[0mb\u001b[0m \u001b[1;32min\u001b[0m \u001b[0metc_model_full\u001b[0m\u001b[1;33m.\u001b[0m\u001b[0mpredict_proba\u001b[0m\u001b[1;33m(\u001b[0m\u001b[0mX_val\u001b[0m\u001b[1;33m)\u001b[0m\u001b[1;33m:\u001b[0m\u001b[1;33m\u001b[0m\u001b[0m\n\u001b[0m\u001b[0;32m      4\u001b[0m     \u001b[0metc_full_pred\u001b[0m\u001b[1;33m.\u001b[0m\u001b[0mappend\u001b[0m\u001b[1;33m(\u001b[0m\u001b[0mb\u001b[0m\u001b[1;33m)\u001b[0m\u001b[1;33m\u001b[0m\u001b[0m\n\u001b[0;32m      5\u001b[0m \u001b[1;33m\u001b[0m\u001b[0m\n",
      "\u001b[1;31mNameError\u001b[0m: name 'etc_model_full' is not defined"
     ]
    }
   ],
   "source": [
    "# Probability\n",
    "etc_full_pred = []\n",
    "for a, b in etc_model_full.predict_proba(X_val):\n",
    "    etc_full_pred.append(b)\n",
    "\n",
    "#auc_etcf = roc_auc_score(df_val['click'], etc_full_pred)\n",
    "rmse_etcf = math.sqrt(mean_squared_error(df_val['click'], etc_full_pred))\n",
    "#print('AUC:', auc_etcf, 'RMSE:',rmse_etcf)"
   ]
  },
  {
   "cell_type": "code",
   "execution_count": 57,
   "metadata": {
    "collapsed": true
   },
   "outputs": [],
   "source": [
    "pCTR_ex = pd.DataFrame(etc_full_pred)"
   ]
  },
  {
   "cell_type": "code",
   "execution_count": null,
   "metadata": {
    "collapsed": true
   },
   "outputs": [],
   "source": [
    "pCTR_ex.to_csv(\"result extratree.csv\")"
   ]
  },
  {
   "cell_type": "code",
   "execution_count": null,
   "metadata": {
    "collapsed": true
   },
   "outputs": [],
   "source": []
  }
 ],
 "metadata": {
  "kernelspec": {
   "display_name": "Python 3",
   "language": "python",
   "name": "python3"
  },
  "language_info": {
   "codemirror_mode": {
    "name": "ipython",
    "version": 3
   },
   "file_extension": ".py",
   "mimetype": "text/x-python",
   "name": "python",
   "nbconvert_exporter": "python",
   "pygments_lexer": "ipython3",
   "version": "3.6.2"
  }
 },
 "nbformat": 4,
 "nbformat_minor": 2
}
