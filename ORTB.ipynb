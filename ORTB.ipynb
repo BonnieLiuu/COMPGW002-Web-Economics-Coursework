{
 "cells": [
  {
   "cell_type": "code",
   "execution_count": 42,
   "metadata": {},
   "outputs": [],
   "source": [
    "import pandas as pd\n",
    "import matplotlib.pyplot as plt\n",
    "import numpy as np\n",
    "import seaborn as sns\n",
    "from sklearn.preprocessing import LabelEncoder"
   ]
  },
  {
   "cell_type": "code",
   "execution_count": 2,
   "metadata": {},
   "outputs": [],
   "source": [
    "train = pd.read_csv(\"train.csv\")\n",
    "test = pd.read_csv(\"test.csv\")\n",
    "validation = pd.read_csv(\"validation.csv\")"
   ]
  },
  {
   "cell_type": "code",
   "execution_count": 13,
   "metadata": {},
   "outputs": [
    {
     "data": {
      "text/plain": [
       "0.0007383985358870749"
      ]
     },
     "execution_count": 13,
     "metadata": {},
     "output_type": "execute_result"
    }
   ],
   "source": [
    "clicks = len(train[train.click==1])\n",
    "impression = len(train[train.bidprice>train.payprice])\n",
    "aCTR=clicks/impression\n",
    "aCTR"
   ]
  },
  {
   "cell_type": "code",
   "execution_count": 16,
   "metadata": {},
   "outputs": [],
   "source": [
    "def evaluate(bidprice):\n",
    "    budget=6250000\n",
    "    impression=0\n",
    "    click=0\n",
    "    for row in range(0,validation.shape[0]):\n",
    "        if budget<validation.payprice[row]:\n",
    "            continue\n",
    "        if bidprice.iloc[row,0]>validation.payprice[row]:\n",
    "            budget=budget-validation.payprice[row]\n",
    "            impression=impression+1\n",
    "            if validation.click[row]==1:\n",
    "                click=click+1\n",
    "    Cost = 6250000 - budget\n",
    "    CTR = click/impression\n",
    "    \n",
    "    #CPM: Cost per mille \n",
    "    CPM = Cost/impression\n",
    "\n",
    "    #eCPC: effective Cost per Click\n",
    "    eCPC = Cost/clicks\n",
    "    estimator = [click,impression,CTR,Cost,CPM,eCPC]\n",
    "    return  estimator"
   ]
  },
  {
   "cell_type": "code",
   "execution_count": 50,
   "metadata": {},
   "outputs": [],
   "source": [
    "def bid_linear(c, lambdas,predCTR):\n",
    "    bid = np.zeros((validation.shape[0], 1))\n",
    "    for i in range (0,validation.shape[0]):\n",
    "        ORTBbid = np.sqrt((c / lambdas * predCTR.pCTR.iloc[i]+ c*c)) - c\n",
    "        bid[i,0] = ORTBbid\n",
    "    bid = pd.DataFrame(bid)\n",
    "    return bid"
   ]
  },
  {
   "cell_type": "markdown",
   "metadata": {},
   "source": [
    "# Clicks prediction"
   ]
  },
  {
   "cell_type": "markdown",
   "metadata": {},
   "source": [
    "# 1.Logistic regression"
   ]
  },
  {
   "cell_type": "code",
   "execution_count": 51,
   "metadata": {},
   "outputs": [],
   "source": [
    "pre_test_lg = pd.read_csv(\"pred_logis_val.csv\", index_col=0)"
   ]
  },
  {
   "cell_type": "code",
   "execution_count": 52,
   "metadata": {},
   "outputs": [
    {
     "data": {
      "text/html": [
       "<div>\n",
       "<style scoped>\n",
       "    .dataframe tbody tr th:only-of-type {\n",
       "        vertical-align: middle;\n",
       "    }\n",
       "\n",
       "    .dataframe tbody tr th {\n",
       "        vertical-align: top;\n",
       "    }\n",
       "\n",
       "    .dataframe thead th {\n",
       "        text-align: right;\n",
       "    }\n",
       "</style>\n",
       "<table border=\"1\" class=\"dataframe\">\n",
       "  <thead>\n",
       "    <tr style=\"text-align: right;\">\n",
       "      <th></th>\n",
       "      <th>0</th>\n",
       "      <th>1</th>\n",
       "    </tr>\n",
       "  </thead>\n",
       "  <tbody>\n",
       "    <tr>\n",
       "      <th>0</th>\n",
       "      <td>0.993936</td>\n",
       "      <td>0.006064</td>\n",
       "    </tr>\n",
       "    <tr>\n",
       "      <th>1</th>\n",
       "      <td>0.997234</td>\n",
       "      <td>0.002766</td>\n",
       "    </tr>\n",
       "    <tr>\n",
       "      <th>2</th>\n",
       "      <td>0.997471</td>\n",
       "      <td>0.002529</td>\n",
       "    </tr>\n",
       "    <tr>\n",
       "      <th>3</th>\n",
       "      <td>0.996463</td>\n",
       "      <td>0.003537</td>\n",
       "    </tr>\n",
       "    <tr>\n",
       "      <th>4</th>\n",
       "      <td>0.998621</td>\n",
       "      <td>0.001379</td>\n",
       "    </tr>\n",
       "  </tbody>\n",
       "</table>\n",
       "</div>"
      ],
      "text/plain": [
       "          0         1\n",
       "0  0.993936  0.006064\n",
       "1  0.997234  0.002766\n",
       "2  0.997471  0.002529\n",
       "3  0.996463  0.003537\n",
       "4  0.998621  0.001379"
      ]
     },
     "execution_count": 52,
     "metadata": {},
     "output_type": "execute_result"
    }
   ],
   "source": [
    "pre_test_lg.head()"
   ]
  },
  {
   "cell_type": "code",
   "execution_count": 53,
   "metadata": {},
   "outputs": [
    {
     "data": {
      "text/html": [
       "<div>\n",
       "<style scoped>\n",
       "    .dataframe tbody tr th:only-of-type {\n",
       "        vertical-align: middle;\n",
       "    }\n",
       "\n",
       "    .dataframe tbody tr th {\n",
       "        vertical-align: top;\n",
       "    }\n",
       "\n",
       "    .dataframe thead th {\n",
       "        text-align: right;\n",
       "    }\n",
       "</style>\n",
       "<table border=\"1\" class=\"dataframe\">\n",
       "  <thead>\n",
       "    <tr style=\"text-align: right;\">\n",
       "      <th></th>\n",
       "      <th>pCTR</th>\n",
       "    </tr>\n",
       "  </thead>\n",
       "  <tbody>\n",
       "    <tr>\n",
       "      <th>0</th>\n",
       "      <td>0.006064</td>\n",
       "    </tr>\n",
       "    <tr>\n",
       "      <th>1</th>\n",
       "      <td>0.002766</td>\n",
       "    </tr>\n",
       "    <tr>\n",
       "      <th>2</th>\n",
       "      <td>0.002529</td>\n",
       "    </tr>\n",
       "    <tr>\n",
       "      <th>3</th>\n",
       "      <td>0.003537</td>\n",
       "    </tr>\n",
       "    <tr>\n",
       "      <th>4</th>\n",
       "      <td>0.001379</td>\n",
       "    </tr>\n",
       "  </tbody>\n",
       "</table>\n",
       "</div>"
      ],
      "text/plain": [
       "       pCTR\n",
       "0  0.006064\n",
       "1  0.002766\n",
       "2  0.002529\n",
       "3  0.003537\n",
       "4  0.001379"
      ]
     },
     "execution_count": 53,
     "metadata": {},
     "output_type": "execute_result"
    }
   ],
   "source": [
    "pre_test_lg.columns=['click 0','pCTR']\n",
    "pre_test_lg = pre_test_lg['pCTR']\n",
    "pre_test_lg = pd.DataFrame(pre_test_lg,columns=['pCTR'])\n",
    "pre_test_lg.head()"
   ]
  },
  {
   "cell_type": "code",
   "execution_count": 54,
   "metadata": {},
   "outputs": [],
   "source": [
    "pre1 = pd.DataFrame(pre_test_lg)\n",
    "predCTR=pre1"
   ]
  },
  {
   "cell_type": "code",
   "execution_count": 55,
   "metadata": {},
   "outputs": [
    {
     "name": "stdout",
     "output_type": "stream",
     "text": [
      "['c:', 1, 'lambda:', 5e-08, 'click:', 59, 'impression:', 86408, 'CTR:0.00068', 'cost:6250000.0', 'CPM:72.33', 'eCPC:3485.78']\n",
      "['c:', 1, 'lambda:', 5.5e-07, 'click:', 97, 'impression:', 122132, 'CTR:0.00079', 'cost:6250000.0', 'CPM:51.17', 'eCPC:3485.78']\n",
      "['c:', 1, 'lambda:', 1.0500000000000001e-06, 'click:', 130, 'impression:', 139802, 'CTR:0.00093', 'cost:6250000.0', 'CPM:44.71', 'eCPC:3485.78']\n",
      "['c:', 1, 'lambda:', 1.5500000000000002e-06, 'click:', 136, 'impression:', 136920, 'CTR:0.00099', 'cost:5451321.0', 'CPM:39.81', 'eCPC:3040.34']\n",
      "['c:', 1, 'lambda:', 2.0500000000000003e-06, 'click:', 125, 'impression:', 117219, 'CTR:0.00107', 'cost:4207632.0', 'CPM:35.90', 'eCPC:2346.70']\n",
      "['c:', 1, 'lambda:', 2.5500000000000006e-06, 'click:', 120, 'impression:', 103112, 'CTR:0.00116', 'cost:3381324.0', 'CPM:32.79', 'eCPC:1885.85']\n",
      "['c:', 1, 'lambda:', 3.0500000000000004e-06, 'click:', 114, 'impression:', 92579, 'CTR:0.00123', 'cost:2804254.0', 'CPM:30.29', 'eCPC:1564.00']\n",
      "['c:', 1, 'lambda:', 3.5500000000000003e-06, 'click:', 108, 'impression:', 84511, 'CTR:0.00128', 'cost:2392197.0', 'CPM:28.31', 'eCPC:1334.19']\n",
      "['c:', 1, 'lambda:', 4.050000000000001e-06, 'click:', 103, 'impression:', 78251, 'CTR:0.00132', 'cost:2084472.0', 'CPM:26.64', 'eCPC:1162.56']\n",
      "['c:', 1, 'lambda:', 4.550000000000001e-06, 'click:', 100, 'impression:', 73262, 'CTR:0.00136', 'cost:1855185.0', 'CPM:25.32', 'eCPC:1034.68']\n",
      "['c:', 10, 'lambda:', 5e-08, 'click:', 52, 'impression:', 81044, 'CTR:0.00064', 'cost:6250000.0', 'CPM:77.12', 'eCPC:3485.78']\n",
      "['c:', 10, 'lambda:', 5.5e-07, 'click:', 60, 'impression:', 87452, 'CTR:0.00069', 'cost:6250000.0', 'CPM:71.47', 'eCPC:3485.78']\n",
      "['c:', 10, 'lambda:', 1.0500000000000001e-06, 'click:', 64, 'impression:', 93012, 'CTR:0.00069', 'cost:6250000.0', 'CPM:67.20', 'eCPC:3485.78']\n",
      "['c:', 10, 'lambda:', 1.5500000000000002e-06, 'click:', 69, 'impression:', 98429, 'CTR:0.00070', 'cost:6250000.0', 'CPM:63.50', 'eCPC:3485.78']\n",
      "['c:', 10, 'lambda:', 2.0500000000000003e-06, 'click:', 74, 'impression:', 103255, 'CTR:0.00072', 'cost:6250000.0', 'CPM:60.53', 'eCPC:3485.78']\n",
      "['c:', 10, 'lambda:', 2.5500000000000006e-06, 'click:', 80, 'impression:', 107695, 'CTR:0.00074', 'cost:6250000.0', 'CPM:58.03', 'eCPC:3485.78']\n",
      "['c:', 10, 'lambda:', 3.0500000000000004e-06, 'click:', 84, 'impression:', 111615, 'CTR:0.00075', 'cost:6250000.0', 'CPM:56.00', 'eCPC:3485.78']\n",
      "['c:', 10, 'lambda:', 3.5500000000000003e-06, 'click:', 88, 'impression:', 115002, 'CTR:0.00077', 'cost:6250000.0', 'CPM:54.35', 'eCPC:3485.78']\n",
      "['c:', 10, 'lambda:', 4.050000000000001e-06, 'click:', 94, 'impression:', 117854, 'CTR:0.00080', 'cost:6250000.0', 'CPM:53.03', 'eCPC:3485.78']\n",
      "['c:', 10, 'lambda:', 4.550000000000001e-06, 'click:', 98, 'impression:', 120463, 'CTR:0.00081', 'cost:6250000.0', 'CPM:51.88', 'eCPC:3485.78']\n",
      "['c:', 20, 'lambda:', 5e-08, 'click:', 51, 'impression:', 80540, 'CTR:0.00063', 'cost:6250000.0', 'CPM:77.60', 'eCPC:3485.78']\n",
      "['c:', 20, 'lambda:', 5.5e-07, 'click:', 55, 'impression:', 84347, 'CTR:0.00065', 'cost:6250000.0', 'CPM:74.10', 'eCPC:3485.78']\n",
      "['c:', 20, 'lambda:', 1.0500000000000001e-06, 'click:', 61, 'impression:', 87630, 'CTR:0.00070', 'cost:6250000.0', 'CPM:71.32', 'eCPC:3485.78']\n",
      "['c:', 20, 'lambda:', 1.5500000000000002e-06, 'click:', 64, 'impression:', 90686, 'CTR:0.00071', 'cost:6250000.0', 'CPM:68.92', 'eCPC:3485.78']\n",
      "['c:', 20, 'lambda:', 2.0500000000000003e-06, 'click:', 63, 'impression:', 93674, 'CTR:0.00067', 'cost:6250000.0', 'CPM:66.72', 'eCPC:3485.78']\n",
      "['c:', 20, 'lambda:', 2.5500000000000006e-06, 'click:', 67, 'impression:', 96681, 'CTR:0.00069', 'cost:6250000.0', 'CPM:64.65', 'eCPC:3485.78']\n",
      "['c:', 20, 'lambda:', 3.0500000000000004e-06, 'click:', 73, 'impression:', 99486, 'CTR:0.00073', 'cost:6250000.0', 'CPM:62.82', 'eCPC:3485.78']\n",
      "['c:', 20, 'lambda:', 3.5500000000000003e-06, 'click:', 74, 'impression:', 102231, 'CTR:0.00072', 'cost:6250000.0', 'CPM:61.14', 'eCPC:3485.78']\n",
      "['c:', 20, 'lambda:', 4.050000000000001e-06, 'click:', 76, 'impression:', 104845, 'CTR:0.00072', 'cost:6250000.0', 'CPM:59.61', 'eCPC:3485.78']\n",
      "['c:', 20, 'lambda:', 4.550000000000001e-06, 'click:', 79, 'impression:', 107313, 'CTR:0.00074', 'cost:6250000.0', 'CPM:58.24', 'eCPC:3485.78']\n",
      "['c:', 30, 'lambda:', 5e-08, 'click:', 51, 'impression:', 80352, 'CTR:0.00063', 'cost:6250000.0', 'CPM:77.78', 'eCPC:3485.78']\n",
      "['c:', 30, 'lambda:', 5.5e-07, 'click:', 54, 'impression:', 83488, 'CTR:0.00065', 'cost:6250000.0', 'CPM:74.86', 'eCPC:3485.78']\n",
      "['c:', 30, 'lambda:', 1.0500000000000001e-06, 'click:', 58, 'impression:', 85655, 'CTR:0.00068', 'cost:6250000.0', 'CPM:72.97', 'eCPC:3485.78']\n",
      "['c:', 30, 'lambda:', 1.5500000000000002e-06, 'click:', 61, 'impression:', 87935, 'CTR:0.00069', 'cost:6250000.0', 'CPM:71.08', 'eCPC:3485.78']\n",
      "['c:', 30, 'lambda:', 2.0500000000000003e-06, 'click:', 64, 'impression:', 90169, 'CTR:0.00071', 'cost:6250000.0', 'CPM:69.31', 'eCPC:3485.78']\n",
      "['c:', 30, 'lambda:', 2.5500000000000006e-06, 'click:', 64, 'impression:', 92384, 'CTR:0.00069', 'cost:6250000.0', 'CPM:67.65', 'eCPC:3485.78']\n",
      "['c:', 30, 'lambda:', 3.0500000000000004e-06, 'click:', 64, 'impression:', 94457, 'CTR:0.00068', 'cost:6250000.0', 'CPM:66.17', 'eCPC:3485.78']\n",
      "['c:', 30, 'lambda:', 3.5500000000000003e-06, 'click:', 67, 'impression:', 96663, 'CTR:0.00069', 'cost:6250000.0', 'CPM:64.66', 'eCPC:3485.78']\n",
      "['c:', 30, 'lambda:', 4.050000000000001e-06, 'click:', 72, 'impression:', 98824, 'CTR:0.00073', 'cost:6250000.0', 'CPM:63.24', 'eCPC:3485.78']\n",
      "['c:', 30, 'lambda:', 4.550000000000001e-06, 'click:', 74, 'impression:', 100879, 'CTR:0.00073', 'cost:6250000.0', 'CPM:61.96', 'eCPC:3485.78']\n",
      "['c:', 40, 'lambda:', 5e-08, 'click:', 51, 'impression:', 80269, 'CTR:0.00064', 'cost:6250000.0', 'CPM:77.86', 'eCPC:3485.78']\n",
      "['c:', 40, 'lambda:', 5.5e-07, 'click:', 54, 'impression:', 82957, 'CTR:0.00065', 'cost:6250000.0', 'CPM:75.34', 'eCPC:3485.78']\n",
      "['c:', 40, 'lambda:', 1.0500000000000001e-06, 'click:', 56, 'impression:', 84695, 'CTR:0.00066', 'cost:6250000.0', 'CPM:73.79', 'eCPC:3485.78']\n",
      "['c:', 40, 'lambda:', 1.5500000000000002e-06, 'click:', 61, 'impression:', 86603, 'CTR:0.00070', 'cost:6250000.0', 'CPM:72.17', 'eCPC:3485.78']\n",
      "['c:', 40, 'lambda:', 2.0500000000000003e-06, 'click:', 62, 'impression:', 88306, 'CTR:0.00070', 'cost:6250000.0', 'CPM:70.78', 'eCPC:3485.78']\n",
      "['c:', 40, 'lambda:', 2.5500000000000006e-06, 'click:', 64, 'impression:', 90131, 'CTR:0.00071', 'cost:6250000.0', 'CPM:69.34', 'eCPC:3485.78']\n",
      "['c:', 40, 'lambda:', 3.0500000000000004e-06, 'click:', 63, 'impression:', 91901, 'CTR:0.00069', 'cost:6250000.0', 'CPM:68.01', 'eCPC:3485.78']\n",
      "['c:', 40, 'lambda:', 3.5500000000000003e-06, 'click:', 63, 'impression:', 93657, 'CTR:0.00067', 'cost:6250000.0', 'CPM:66.73', 'eCPC:3485.78']\n",
      "['c:', 40, 'lambda:', 4.050000000000001e-06, 'click:', 67, 'impression:', 95487, 'CTR:0.00070', 'cost:6250000.0', 'CPM:65.45', 'eCPC:3485.78']\n",
      "['c:', 40, 'lambda:', 4.550000000000001e-06, 'click:', 70, 'impression:', 97241, 'CTR:0.00072', 'cost:6250000.0', 'CPM:64.27', 'eCPC:3485.78']\n",
      "['c:', 50, 'lambda:', 5e-08, 'click:', 51, 'impression:', 80235, 'CTR:0.00064', 'cost:6250000.0', 'CPM:77.90', 'eCPC:3485.78']\n",
      "['c:', 50, 'lambda:', 5.5e-07, 'click:', 54, 'impression:', 82581, 'CTR:0.00065', 'cost:6250000.0', 'CPM:75.68', 'eCPC:3485.78']\n",
      "['c:', 50, 'lambda:', 1.0500000000000001e-06, 'click:', 55, 'impression:', 84114, 'CTR:0.00065', 'cost:6250000.0', 'CPM:74.30', 'eCPC:3485.78']\n",
      "['c:', 50, 'lambda:', 1.5500000000000002e-06, 'click:', 59, 'impression:', 85675, 'CTR:0.00069', 'cost:6250000.0', 'CPM:72.95', 'eCPC:3485.78']\n",
      "['c:', 50, 'lambda:', 2.0500000000000003e-06, 'click:', 61, 'impression:', 87289, 'CTR:0.00070', 'cost:6250000.0', 'CPM:71.60', 'eCPC:3485.78']\n",
      "['c:', 50, 'lambda:', 2.5500000000000006e-06, 'click:', 61, 'impression:', 88665, 'CTR:0.00069', 'cost:6250000.0', 'CPM:70.49', 'eCPC:3485.78']\n",
      "['c:', 50, 'lambda:', 3.0500000000000004e-06, 'click:', 64, 'impression:', 90249, 'CTR:0.00071', 'cost:6250000.0', 'CPM:69.25', 'eCPC:3485.78']\n",
      "['c:', 50, 'lambda:', 3.5500000000000003e-06, 'click:', 63, 'impression:', 91802, 'CTR:0.00069', 'cost:6250000.0', 'CPM:68.08', 'eCPC:3485.78']\n",
      "['c:', 50, 'lambda:', 4.050000000000001e-06, 'click:', 63, 'impression:', 93319, 'CTR:0.00068', 'cost:6250000.0', 'CPM:66.97', 'eCPC:3485.78']\n"
     ]
    },
    {
     "name": "stdout",
     "output_type": "stream",
     "text": [
      "['c:', 50, 'lambda:', 4.550000000000001e-06, 'click:', 67, 'impression:', 94897, 'CTR:0.00071', 'cost:6250000.0', 'CPM:65.86', 'eCPC:3485.78']\n",
      "['c:', 60, 'lambda:', 5e-08, 'click:', 51, 'impression:', 80200, 'CTR:0.00064', 'cost:6250000.0', 'CPM:77.93', 'eCPC:3485.78']\n",
      "['c:', 60, 'lambda:', 5.5e-07, 'click:', 54, 'impression:', 82367, 'CTR:0.00066', 'cost:6250000.0', 'CPM:75.88', 'eCPC:3485.78']\n",
      "['c:', 60, 'lambda:', 1.0500000000000001e-06, 'click:', 54, 'impression:', 83797, 'CTR:0.00064', 'cost:6250000.0', 'CPM:74.59', 'eCPC:3485.78']\n",
      "['c:', 60, 'lambda:', 1.5500000000000002e-06, 'click:', 57, 'impression:', 85074, 'CTR:0.00067', 'cost:6250000.0', 'CPM:73.47', 'eCPC:3485.78']\n",
      "['c:', 60, 'lambda:', 2.0500000000000003e-06, 'click:', 61, 'impression:', 86565, 'CTR:0.00070', 'cost:6250000.0', 'CPM:72.20', 'eCPC:3485.78']\n",
      "['c:', 60, 'lambda:', 2.5500000000000006e-06, 'click:', 62, 'impression:', 87851, 'CTR:0.00071', 'cost:6250000.0', 'CPM:71.14', 'eCPC:3485.78']\n",
      "['c:', 60, 'lambda:', 3.0500000000000004e-06, 'click:', 61, 'impression:', 89108, 'CTR:0.00068', 'cost:6250000.0', 'CPM:70.14', 'eCPC:3485.78']\n",
      "['c:', 60, 'lambda:', 3.5500000000000003e-06, 'click:', 64, 'impression:', 90538, 'CTR:0.00071', 'cost:6250000.0', 'CPM:69.03', 'eCPC:3485.78']\n",
      "['c:', 60, 'lambda:', 4.050000000000001e-06, 'click:', 63, 'impression:', 91873, 'CTR:0.00069', 'cost:6250000.0', 'CPM:68.03', 'eCPC:3485.78']\n",
      "['c:', 60, 'lambda:', 4.550000000000001e-06, 'click:', 64, 'impression:', 93286, 'CTR:0.00069', 'cost:6250000.0', 'CPM:67.00', 'eCPC:3485.78']\n",
      "['c:', 70, 'lambda:', 5e-08, 'click:', 51, 'impression:', 80166, 'CTR:0.00064', 'cost:6250000.0', 'CPM:77.96', 'eCPC:3485.78']\n",
      "['c:', 70, 'lambda:', 5.5e-07, 'click:', 54, 'impression:', 82188, 'CTR:0.00066', 'cost:6250000.0', 'CPM:76.05', 'eCPC:3485.78']\n",
      "['c:', 70, 'lambda:', 1.0500000000000001e-06, 'click:', 54, 'impression:', 83558, 'CTR:0.00065', 'cost:6250000.0', 'CPM:74.80', 'eCPC:3485.78']\n",
      "['c:', 70, 'lambda:', 1.5500000000000002e-06, 'click:', 57, 'impression:', 84664, 'CTR:0.00067', 'cost:6250000.0', 'CPM:73.82', 'eCPC:3485.78']\n",
      "['c:', 70, 'lambda:', 2.0500000000000003e-06, 'click:', 61, 'impression:', 85969, 'CTR:0.00071', 'cost:6250000.0', 'CPM:72.70', 'eCPC:3485.78']\n",
      "['c:', 70, 'lambda:', 2.5500000000000006e-06, 'click:', 61, 'impression:', 87221, 'CTR:0.00070', 'cost:6250000.0', 'CPM:71.66', 'eCPC:3485.78']\n",
      "['c:', 70, 'lambda:', 3.0500000000000004e-06, 'click:', 61, 'impression:', 88359, 'CTR:0.00069', 'cost:6250000.0', 'CPM:70.73', 'eCPC:3485.78']\n",
      "['c:', 70, 'lambda:', 3.5500000000000003e-06, 'click:', 64, 'impression:', 89578, 'CTR:0.00071', 'cost:6250000.0', 'CPM:69.77', 'eCPC:3485.78']\n",
      "['c:', 70, 'lambda:', 4.050000000000001e-06, 'click:', 63, 'impression:', 90869, 'CTR:0.00069', 'cost:6250000.0', 'CPM:68.78', 'eCPC:3485.78']\n",
      "['c:', 70, 'lambda:', 4.550000000000001e-06, 'click:', 63, 'impression:', 92097, 'CTR:0.00068', 'cost:6250000.0', 'CPM:67.86', 'eCPC:3485.78']\n",
      "['c:', 80, 'lambda:', 5e-08, 'click:', 51, 'impression:', 80126, 'CTR:0.00064', 'cost:6250000.0', 'CPM:78.00', 'eCPC:3485.78']\n",
      "['c:', 80, 'lambda:', 5.5e-07, 'click:', 54, 'impression:', 82031, 'CTR:0.00066', 'cost:6250000.0', 'CPM:76.19', 'eCPC:3485.78']\n",
      "['c:', 80, 'lambda:', 1.0500000000000001e-06, 'click:', 54, 'impression:', 83382, 'CTR:0.00065', 'cost:6250000.0', 'CPM:74.96', 'eCPC:3485.78']\n",
      "['c:', 80, 'lambda:', 1.5500000000000002e-06, 'click:', 56, 'impression:', 84376, 'CTR:0.00066', 'cost:6250000.0', 'CPM:74.07', 'eCPC:3485.78']\n",
      "['c:', 80, 'lambda:', 2.0500000000000003e-06, 'click:', 60, 'impression:', 85545, 'CTR:0.00070', 'cost:6250000.0', 'CPM:73.06', 'eCPC:3485.78']\n",
      "['c:', 80, 'lambda:', 2.5500000000000006e-06, 'click:', 61, 'impression:', 86779, 'CTR:0.00070', 'cost:6250000.0', 'CPM:72.02', 'eCPC:3485.78']\n",
      "['c:', 80, 'lambda:', 3.0500000000000004e-06, 'click:', 62, 'impression:', 87799, 'CTR:0.00071', 'cost:6250000.0', 'CPM:71.19', 'eCPC:3485.78']\n",
      "['c:', 80, 'lambda:', 3.5500000000000003e-06, 'click:', 61, 'impression:', 88855, 'CTR:0.00069', 'cost:6250000.0', 'CPM:70.34', 'eCPC:3485.78']\n",
      "['c:', 80, 'lambda:', 4.050000000000001e-06, 'click:', 63, 'impression:', 90066, 'CTR:0.00070', 'cost:6250000.0', 'CPM:69.39', 'eCPC:3485.78']\n",
      "['c:', 80, 'lambda:', 4.550000000000001e-06, 'click:', 64, 'impression:', 91196, 'CTR:0.00070', 'cost:6250000.0', 'CPM:68.53', 'eCPC:3485.78']\n"
     ]
    }
   ],
   "source": [
    "lambda_range = list(np.arange(5e-8, 5e-6,5e-7))\n",
    "\n",
    "c_range = list([1,10,20,30,40,50,60,70, 80])\n",
    "\n",
    "ORTBbids = []\n",
    "clambda = []\n",
    "\n",
    "for c in c_range:\n",
    "    for lambdas in lambda_range:\n",
    "        #clambda.append((c,lambdas))\n",
    "        bidprice=bid_linear(c, lambdas,predCTR)   \n",
    "        #ORTBbids.append(ORTBbid)\n",
    "        \n",
    "        estimator = evaluate(bidprice)\n",
    "        result = ['c:',c,'lambda:',lambdas, 'click:',estimator[0], 'impression:',estimator[1],\n",
    "          'CTR:%.5f'% estimator[2], 'cost:%.1f'% estimator[3], 'CPM:%.2f'% estimator[4], 'eCPC:%.2f'% estimator[5]]\n",
    "        print(result)  "
   ]
  },
  {
   "cell_type": "code",
   "execution_count": null,
   "metadata": {},
   "outputs": [],
   "source": []
  },
  {
   "cell_type": "markdown",
   "metadata": {},
   "source": [
    "# 2. GBDT+LR"
   ]
  },
  {
   "cell_type": "code",
   "execution_count": 56,
   "metadata": {},
   "outputs": [],
   "source": [
    "pre_test_GBDT = pd.read_csv(\"GBDT result2.csv\", index_col=0)"
   ]
  },
  {
   "cell_type": "code",
   "execution_count": 57,
   "metadata": {},
   "outputs": [
    {
     "data": {
      "text/html": [
       "<div>\n",
       "<style scoped>\n",
       "    .dataframe tbody tr th:only-of-type {\n",
       "        vertical-align: middle;\n",
       "    }\n",
       "\n",
       "    .dataframe tbody tr th {\n",
       "        vertical-align: top;\n",
       "    }\n",
       "\n",
       "    .dataframe thead th {\n",
       "        text-align: right;\n",
       "    }\n",
       "</style>\n",
       "<table border=\"1\" class=\"dataframe\">\n",
       "  <thead>\n",
       "    <tr style=\"text-align: right;\">\n",
       "      <th></th>\n",
       "      <th>0</th>\n",
       "      <th>1</th>\n",
       "    </tr>\n",
       "  </thead>\n",
       "  <tbody>\n",
       "    <tr>\n",
       "      <th>0</th>\n",
       "      <td>0.999412</td>\n",
       "      <td>0.000588</td>\n",
       "    </tr>\n",
       "    <tr>\n",
       "      <th>1</th>\n",
       "      <td>0.999342</td>\n",
       "      <td>0.000658</td>\n",
       "    </tr>\n",
       "    <tr>\n",
       "      <th>2</th>\n",
       "      <td>0.999412</td>\n",
       "      <td>0.000588</td>\n",
       "    </tr>\n",
       "    <tr>\n",
       "      <th>3</th>\n",
       "      <td>0.999412</td>\n",
       "      <td>0.000588</td>\n",
       "    </tr>\n",
       "    <tr>\n",
       "      <th>4</th>\n",
       "      <td>0.999342</td>\n",
       "      <td>0.000658</td>\n",
       "    </tr>\n",
       "  </tbody>\n",
       "</table>\n",
       "</div>"
      ],
      "text/plain": [
       "          0         1\n",
       "0  0.999412  0.000588\n",
       "1  0.999342  0.000658\n",
       "2  0.999412  0.000588\n",
       "3  0.999412  0.000588\n",
       "4  0.999342  0.000658"
      ]
     },
     "execution_count": 57,
     "metadata": {},
     "output_type": "execute_result"
    }
   ],
   "source": [
    "pre_test_GBDT.head()"
   ]
  },
  {
   "cell_type": "code",
   "execution_count": 58,
   "metadata": {},
   "outputs": [
    {
     "data": {
      "text/html": [
       "<div>\n",
       "<style scoped>\n",
       "    .dataframe tbody tr th:only-of-type {\n",
       "        vertical-align: middle;\n",
       "    }\n",
       "\n",
       "    .dataframe tbody tr th {\n",
       "        vertical-align: top;\n",
       "    }\n",
       "\n",
       "    .dataframe thead th {\n",
       "        text-align: right;\n",
       "    }\n",
       "</style>\n",
       "<table border=\"1\" class=\"dataframe\">\n",
       "  <thead>\n",
       "    <tr style=\"text-align: right;\">\n",
       "      <th></th>\n",
       "      <th>pCTR</th>\n",
       "    </tr>\n",
       "  </thead>\n",
       "  <tbody>\n",
       "    <tr>\n",
       "      <th>0</th>\n",
       "      <td>0.000588</td>\n",
       "    </tr>\n",
       "    <tr>\n",
       "      <th>1</th>\n",
       "      <td>0.000658</td>\n",
       "    </tr>\n",
       "    <tr>\n",
       "      <th>2</th>\n",
       "      <td>0.000588</td>\n",
       "    </tr>\n",
       "    <tr>\n",
       "      <th>3</th>\n",
       "      <td>0.000588</td>\n",
       "    </tr>\n",
       "    <tr>\n",
       "      <th>4</th>\n",
       "      <td>0.000658</td>\n",
       "    </tr>\n",
       "  </tbody>\n",
       "</table>\n",
       "</div>"
      ],
      "text/plain": [
       "       pCTR\n",
       "0  0.000588\n",
       "1  0.000658\n",
       "2  0.000588\n",
       "3  0.000588\n",
       "4  0.000658"
      ]
     },
     "execution_count": 58,
     "metadata": {},
     "output_type": "execute_result"
    }
   ],
   "source": [
    "pre_test_GBDT.columns=['click 0','pCTR']\n",
    "pre_test_GBDT = pre_test_GBDT['pCTR']\n",
    "pre_test_GBDT = pd.DataFrame(pre_test_GBDT,columns=['pCTR'])\n",
    "pre_test_GBDT.head()"
   ]
  },
  {
   "cell_type": "code",
   "execution_count": 60,
   "metadata": {},
   "outputs": [],
   "source": [
    "pre2 = pd.DataFrame(pre_test_GBDT)\n",
    "predCTR2=pre2"
   ]
  },
  {
   "cell_type": "code",
   "execution_count": 62,
   "metadata": {},
   "outputs": [
    {
     "name": "stdout",
     "output_type": "stream",
     "text": [
      "['c:', 1, 'lambda:', 5e-08, 'click:', 70, 'impression:', 117800, 'CTR:0.00059', 'cost:6250000.0', 'CPM:53.06', 'eCPC:3485.78']\n",
      "['c:', 1, 'lambda:', 5.5e-07, 'click:', 63, 'impression:', 83431, 'CTR:0.00076', 'cost:2027070.0', 'CPM:24.30', 'eCPC:1130.55']\n",
      "['c:', 1, 'lambda:', 1.0500000000000001e-06, 'click:', 47, 'impression:', 64567, 'CTR:0.00073', 'cost:1337218.0', 'CPM:20.71', 'eCPC:745.80']\n",
      "['c:', 1, 'lambda:', 1.5500000000000002e-06, 'click:', 35, 'impression:', 39484, 'CTR:0.00089', 'cost:709572.0', 'CPM:17.97', 'eCPC:395.75']\n",
      "['c:', 1, 'lambda:', 2.0500000000000003e-06, 'click:', 25, 'impression:', 32411, 'CTR:0.00077', 'cost:526659.0', 'CPM:16.25', 'eCPC:293.73']\n",
      "['c:', 1, 'lambda:', 2.5500000000000006e-06, 'click:', 23, 'impression:', 30121, 'CTR:0.00076', 'cost:454502.0', 'CPM:15.09', 'eCPC:253.49']\n",
      "['c:', 1, 'lambda:', 3.0500000000000004e-06, 'click:', 21, 'impression:', 26659, 'CTR:0.00079', 'cost:379692.0', 'CPM:14.24', 'eCPC:211.76']\n",
      "['c:', 1, 'lambda:', 3.5500000000000003e-06, 'click:', 18, 'impression:', 24653, 'CTR:0.00073', 'cost:333764.0', 'CPM:13.54', 'eCPC:186.15']\n",
      "['c:', 1, 'lambda:', 4.050000000000001e-06, 'click:', 15, 'impression:', 23751, 'CTR:0.00063', 'cost:301946.0', 'CPM:12.71', 'eCPC:168.40']\n",
      "['c:', 1, 'lambda:', 4.550000000000001e-06, 'click:', 14, 'impression:', 22371, 'CTR:0.00063', 'cost:274891.0', 'CPM:12.29', 'eCPC:153.31']\n",
      "['c:', 10, 'lambda:', 5e-08, 'click:', 51, 'impression:', 79760, 'CTR:0.00064', 'cost:6250000.0', 'CPM:78.36', 'eCPC:3485.78']\n",
      "['c:', 10, 'lambda:', 5.5e-07, 'click:', 77, 'impression:', 123306, 'CTR:0.00062', 'cost:6250000.0', 'CPM:50.69', 'eCPC:3485.78']\n",
      "['c:', 10, 'lambda:', 1.0500000000000001e-06, 'click:', 92, 'impression:', 156928, 'CTR:0.00059', 'cost:5959245.0', 'CPM:37.97', 'eCPC:3323.62']\n",
      "['c:', 10, 'lambda:', 1.5500000000000002e-06, 'click:', 89, 'impression:', 138161, 'CTR:0.00064', 'cost:4797088.0', 'CPM:34.72', 'eCPC:2675.45']\n",
      "['c:', 10, 'lambda:', 2.0500000000000003e-06, 'click:', 77, 'impression:', 103836, 'CTR:0.00074', 'cost:3015826.0', 'CPM:29.04', 'eCPC:1682.00']\n",
      "['c:', 10, 'lambda:', 2.5500000000000006e-06, 'click:', 71, 'impression:', 95139, 'CTR:0.00075', 'cost:2603899.0', 'CPM:27.37', 'eCPC:1452.26']\n",
      "['c:', 10, 'lambda:', 3.0500000000000004e-06, 'click:', 69, 'impression:', 89486, 'CTR:0.00077', 'cost:2340440.0', 'CPM:26.15', 'eCPC:1305.32']\n",
      "['c:', 10, 'lambda:', 3.5500000000000003e-06, 'click:', 68, 'impression:', 84468, 'CTR:0.00081', 'cost:2133690.0', 'CPM:25.26', 'eCPC:1190.01']\n",
      "['c:', 10, 'lambda:', 4.050000000000001e-06, 'click:', 63, 'impression:', 76629, 'CTR:0.00082', 'cost:1860442.0', 'CPM:24.28', 'eCPC:1037.61']\n",
      "['c:', 10, 'lambda:', 4.550000000000001e-06, 'click:', 59, 'impression:', 72489, 'CTR:0.00081', 'cost:1708920.0', 'CPM:23.57', 'eCPC:953.11']\n",
      "['c:', 20, 'lambda:', 5e-08, 'click:', 51, 'impression:', 79760, 'CTR:0.00064', 'cost:6250000.0', 'CPM:78.36', 'eCPC:3485.78']\n",
      "['c:', 20, 'lambda:', 5.5e-07, 'click:', 65, 'impression:', 110972, 'CTR:0.00059', 'cost:6250000.0', 'CPM:56.32', 'eCPC:3485.78']\n",
      "['c:', 20, 'lambda:', 1.0500000000000001e-06, 'click:', 78, 'impression:', 125648, 'CTR:0.00062', 'cost:6250000.0', 'CPM:49.74', 'eCPC:3485.78']\n",
      "['c:', 20, 'lambda:', 1.5500000000000002e-06, 'click:', 88, 'impression:', 148039, 'CTR:0.00059', 'cost:6250000.0', 'CPM:42.22', 'eCPC:3485.78']\n",
      "['c:', 20, 'lambda:', 2.0500000000000003e-06, 'click:', 89, 'impression:', 146995, 'CTR:0.00061', 'cost:5326414.0', 'CPM:36.24', 'eCPC:2970.67']\n",
      "['c:', 20, 'lambda:', 2.5500000000000006e-06, 'click:', 88, 'impression:', 128226, 'CTR:0.00069', 'cost:4271413.0', 'CPM:33.31', 'eCPC:2382.27']\n",
      "['c:', 20, 'lambda:', 3.0500000000000004e-06, 'click:', 78, 'impression:', 105429, 'CTR:0.00074', 'cost:3114209.0', 'CPM:29.54', 'eCPC:1736.87']\n",
      "['c:', 20, 'lambda:', 3.5500000000000003e-06, 'click:', 74, 'impression:', 98379, 'CTR:0.00075', 'cost:2785904.0', 'CPM:28.32', 'eCPC:1553.77']\n",
      "['c:', 20, 'lambda:', 4.050000000000001e-06, 'click:', 73, 'impression:', 93323, 'CTR:0.00078', 'cost:2561634.0', 'CPM:27.45', 'eCPC:1428.69']\n",
      "['c:', 20, 'lambda:', 4.550000000000001e-06, 'click:', 71, 'impression:', 89339, 'CTR:0.00079', 'cost:2392539.0', 'CPM:26.78', 'eCPC:1334.38']\n",
      "['c:', 30, 'lambda:', 5e-08, 'click:', 51, 'impression:', 79760, 'CTR:0.00064', 'cost:6250000.0', 'CPM:78.36', 'eCPC:3485.78']\n",
      "['c:', 30, 'lambda:', 5.5e-07, 'click:', 59, 'impression:', 102303, 'CTR:0.00058', 'cost:6250000.0', 'CPM:61.09', 'eCPC:3485.78']\n",
      "['c:', 30, 'lambda:', 1.0500000000000001e-06, 'click:', 72, 'impression:', 118950, 'CTR:0.00061', 'cost:6250000.0', 'CPM:52.54', 'eCPC:3485.78']\n",
      "['c:', 30, 'lambda:', 1.5500000000000002e-06, 'click:', 86, 'impression:', 130866, 'CTR:0.00066', 'cost:6250000.0', 'CPM:47.76', 'eCPC:3485.78']\n",
      "['c:', 30, 'lambda:', 2.0500000000000003e-06, 'click:', 92, 'impression:', 151712, 'CTR:0.00061', 'cost:6250000.0', 'CPM:41.20', 'eCPC:3485.78']\n",
      "['c:', 30, 'lambda:', 2.5500000000000006e-06, 'click:', 89, 'impression:', 147023, 'CTR:0.00061', 'cost:5332792.0', 'CPM:36.27', 'eCPC:2974.23']\n",
      "['c:', 30, 'lambda:', 3.0500000000000004e-06, 'click:', 89, 'impression:', 136905, 'CTR:0.00065', 'cost:4752802.0', 'CPM:34.72', 'eCPC:2650.75']\n",
      "['c:', 30, 'lambda:', 3.5500000000000003e-06, 'click:', 85, 'impression:', 118055, 'CTR:0.00072', 'cost:3759306.0', 'CPM:31.84', 'eCPC:2096.66']\n",
      "['c:', 30, 'lambda:', 4.050000000000001e-06, 'click:', 76, 'impression:', 101325, 'CTR:0.00075', 'cost:2936382.0', 'CPM:28.98', 'eCPC:1637.69']\n",
      "['c:', 30, 'lambda:', 4.550000000000001e-06, 'click:', 74, 'impression:', 96103, 'CTR:0.00077', 'cost:2703028.0', 'CPM:28.13', 'eCPC:1507.54']\n",
      "['c:', 40, 'lambda:', 5e-08, 'click:', 51, 'impression:', 79760, 'CTR:0.00064', 'cost:6250000.0', 'CPM:78.36', 'eCPC:3485.78']\n",
      "['c:', 40, 'lambda:', 5.5e-07, 'click:', 60, 'impression:', 96020, 'CTR:0.00062', 'cost:6250000.0', 'CPM:65.09', 'eCPC:3485.78']\n",
      "['c:', 40, 'lambda:', 1.0500000000000001e-06, 'click:', 69, 'impression:', 115019, 'CTR:0.00060', 'cost:6250000.0', 'CPM:54.34', 'eCPC:3485.78']\n",
      "['c:', 40, 'lambda:', 1.5500000000000002e-06, 'click:', 77, 'impression:', 124293, 'CTR:0.00062', 'cost:6250000.0', 'CPM:50.28', 'eCPC:3485.78']\n",
      "['c:', 40, 'lambda:', 2.0500000000000003e-06, 'click:', 89, 'impression:', 134999, 'CTR:0.00066', 'cost:6250000.0', 'CPM:46.30', 'eCPC:3485.78']\n",
      "['c:', 40, 'lambda:', 2.5500000000000006e-06, 'click:', 92, 'impression:', 156489, 'CTR:0.00059', 'cost:5942290.0', 'CPM:37.97', 'eCPC:3314.16']\n",
      "['c:', 40, 'lambda:', 3.0500000000000004e-06, 'click:', 89, 'impression:', 145106, 'CTR:0.00061', 'cost:5223465.0', 'CPM:36.00', 'eCPC:2913.25']\n",
      "['c:', 40, 'lambda:', 3.5500000000000003e-06, 'click:', 88, 'impression:', 128299, 'CTR:0.00069', 'cost:4289236.0', 'CPM:33.43', 'eCPC:2392.21']\n",
      "['c:', 40, 'lambda:', 4.050000000000001e-06, 'click:', 79, 'impression:', 106911, 'CTR:0.00074', 'cost:3210374.0', 'CPM:30.03', 'eCPC:1790.50']\n",
      "['c:', 40, 'lambda:', 4.550000000000001e-06, 'click:', 76, 'impression:', 101381, 'CTR:0.00075', 'cost:2949209.0', 'CPM:29.09', 'eCPC:1644.85']\n",
      "['c:', 50, 'lambda:', 5e-08, 'click:', 51, 'impression:', 79760, 'CTR:0.00064', 'cost:6250000.0', 'CPM:78.36', 'eCPC:3485.78']\n",
      "['c:', 50, 'lambda:', 5.5e-07, 'click:', 59, 'impression:', 92583, 'CTR:0.00064', 'cost:6250000.0', 'CPM:67.51', 'eCPC:3485.78']\n",
      "['c:', 50, 'lambda:', 1.0500000000000001e-06, 'click:', 65, 'impression:', 111665, 'CTR:0.00058', 'cost:6250000.0', 'CPM:55.97', 'eCPC:3485.78']\n",
      "['c:', 50, 'lambda:', 1.5500000000000002e-06, 'click:', 75, 'impression:', 121658, 'CTR:0.00062', 'cost:6250000.0', 'CPM:51.37', 'eCPC:3485.78']\n",
      "['c:', 50, 'lambda:', 2.0500000000000003e-06, 'click:', 86, 'impression:', 131083, 'CTR:0.00066', 'cost:6250000.0', 'CPM:47.68', 'eCPC:3485.78']\n",
      "['c:', 50, 'lambda:', 2.5500000000000006e-06, 'click:', 89, 'impression:', 148266, 'CTR:0.00060', 'cost:6250000.0', 'CPM:42.15', 'eCPC:3485.78']\n",
      "['c:', 50, 'lambda:', 3.0500000000000004e-06, 'click:', 91, 'impression:', 150255, 'CTR:0.00061', 'cost:5540006.0', 'CPM:36.87', 'eCPC:3089.80']\n",
      "['c:', 50, 'lambda:', 3.5500000000000003e-06, 'click:', 89, 'impression:', 140210, 'CTR:0.00063', 'cost:4942332.0', 'CPM:35.25', 'eCPC:2756.46']\n",
      "['c:', 50, 'lambda:', 4.050000000000001e-06, 'click:', 87, 'impression:', 124444, 'CTR:0.00070', 'cost:4097740.0', 'CPM:32.93', 'eCPC:2285.41']\n"
     ]
    },
    {
     "name": "stdout",
     "output_type": "stream",
     "text": [
      "['c:', 50, 'lambda:', 4.550000000000001e-06, 'click:', 78, 'impression:', 104446, 'CTR:0.00075', 'cost:3098479.0', 'CPM:29.67', 'eCPC:1728.10']\n",
      "['c:', 60, 'lambda:', 5e-08, 'click:', 51, 'impression:', 79760, 'CTR:0.00064', 'cost:6250000.0', 'CPM:78.36', 'eCPC:3485.78']\n",
      "['c:', 60, 'lambda:', 5.5e-07, 'click:', 57, 'impression:', 89689, 'CTR:0.00064', 'cost:6250000.0', 'CPM:69.69', 'eCPC:3485.78']\n",
      "['c:', 60, 'lambda:', 1.0500000000000001e-06, 'click:', 63, 'impression:', 109151, 'CTR:0.00058', 'cost:6250000.0', 'CPM:57.26', 'eCPC:3485.78']\n",
      "['c:', 60, 'lambda:', 1.5500000000000002e-06, 'click:', 72, 'impression:', 119110, 'CTR:0.00060', 'cost:6250000.0', 'CPM:52.47', 'eCPC:3485.78']\n",
      "['c:', 60, 'lambda:', 2.0500000000000003e-06, 'click:', 82, 'impression:', 126518, 'CTR:0.00065', 'cost:6250000.0', 'CPM:49.40', 'eCPC:3485.78']\n",
      "['c:', 60, 'lambda:', 2.5500000000000006e-06, 'click:', 90, 'impression:', 139556, 'CTR:0.00064', 'cost:6250000.0', 'CPM:44.78', 'eCPC:3485.78']\n",
      "['c:', 60, 'lambda:', 3.0500000000000004e-06, 'click:', 91, 'impression:', 155090, 'CTR:0.00059', 'cost:5850828.0', 'CPM:37.73', 'eCPC:3263.15']\n",
      "['c:', 60, 'lambda:', 3.5500000000000003e-06, 'click:', 89, 'impression:', 145133, 'CTR:0.00061', 'cost:5229924.0', 'CPM:36.04', 'eCPC:2916.86']\n",
      "['c:', 60, 'lambda:', 4.050000000000001e-06, 'click:', 88, 'impression:', 135248, 'CTR:0.00065', 'cost:4679198.0', 'CPM:34.60', 'eCPC:2609.70']\n",
      "['c:', 60, 'lambda:', 4.550000000000001e-06, 'click:', 85, 'impression:', 118135, 'CTR:0.00072', 'cost:3778770.0', 'CPM:31.99', 'eCPC:2107.51']\n",
      "['c:', 70, 'lambda:', 5e-08, 'click:', 51, 'impression:', 79760, 'CTR:0.00064', 'cost:6250000.0', 'CPM:78.36', 'eCPC:3485.78']\n",
      "['c:', 70, 'lambda:', 5.5e-07, 'click:', 54, 'impression:', 86681, 'CTR:0.00062', 'cost:6250000.0', 'CPM:72.10', 'eCPC:3485.78']\n",
      "['c:', 70, 'lambda:', 1.0500000000000001e-06, 'click:', 60, 'impression:', 106324, 'CTR:0.00056', 'cost:6250000.0', 'CPM:58.78', 'eCPC:3485.78']\n",
      "['c:', 70, 'lambda:', 1.5500000000000002e-06, 'click:', 70, 'impression:', 117397, 'CTR:0.00060', 'cost:6250000.0', 'CPM:53.24', 'eCPC:3485.78']\n",
      "['c:', 70, 'lambda:', 2.0500000000000003e-06, 'click:', 78, 'impression:', 124843, 'CTR:0.00062', 'cost:6250000.0', 'CPM:50.06', 'eCPC:3485.78']\n",
      "['c:', 70, 'lambda:', 2.5500000000000006e-06, 'click:', 88, 'impression:', 134554, 'CTR:0.00065', 'cost:6250000.0', 'CPM:46.45', 'eCPC:3485.78']\n",
      "['c:', 70, 'lambda:', 3.0500000000000004e-06, 'click:', 92, 'impression:', 152666, 'CTR:0.00060', 'cost:6250000.0', 'CPM:40.94', 'eCPC:3485.78']\n",
      "['c:', 70, 'lambda:', 3.5500000000000003e-06, 'click:', 89, 'impression:', 147552, 'CTR:0.00060', 'cost:5374032.0', 'CPM:36.42', 'eCPC:2997.23']\n",
      "['c:', 70, 'lambda:', 4.050000000000001e-06, 'click:', 89, 'impression:', 139158, 'CTR:0.00064', 'cost:4888152.0', 'CPM:35.13', 'eCPC:2726.24']\n",
      "['c:', 70, 'lambda:', 4.550000000000001e-06, 'click:', 87, 'impression:', 124182, 'CTR:0.00070', 'cost:4089665.0', 'CPM:32.93', 'eCPC:2280.91']\n",
      "['c:', 80, 'lambda:', 5e-08, 'click:', 51, 'impression:', 79760, 'CTR:0.00064', 'cost:6250000.0', 'CPM:78.36', 'eCPC:3485.78']\n",
      "['c:', 80, 'lambda:', 5.5e-07, 'click:', 53, 'impression:', 85425, 'CTR:0.00062', 'cost:6250000.0', 'CPM:73.16', 'eCPC:3485.78']\n",
      "['c:', 80, 'lambda:', 1.0500000000000001e-06, 'click:', 61, 'impression:', 104185, 'CTR:0.00059', 'cost:6250000.0', 'CPM:59.99', 'eCPC:3485.78']\n",
      "['c:', 80, 'lambda:', 1.5500000000000002e-06, 'click:', 68, 'impression:', 115967, 'CTR:0.00059', 'cost:6250000.0', 'CPM:53.89', 'eCPC:3485.78']\n",
      "['c:', 80, 'lambda:', 2.0500000000000003e-06, 'click:', 77, 'impression:', 123560, 'CTR:0.00062', 'cost:6250000.0', 'CPM:50.58', 'eCPC:3485.78']\n",
      "['c:', 80, 'lambda:', 2.5500000000000006e-06, 'click:', 85, 'impression:', 131895, 'CTR:0.00064', 'cost:6250000.0', 'CPM:47.39', 'eCPC:3485.78']\n",
      "['c:', 80, 'lambda:', 3.0500000000000004e-06, 'click:', 90, 'impression:', 148890, 'CTR:0.00060', 'cost:6250000.0', 'CPM:41.98', 'eCPC:3485.78']\n",
      "['c:', 80, 'lambda:', 3.5500000000000003e-06, 'click:', 91, 'impression:', 150261, 'CTR:0.00061', 'cost:5540507.0', 'CPM:36.87', 'eCPC:3090.08']\n",
      "['c:', 80, 'lambda:', 4.050000000000001e-06, 'click:', 89, 'impression:', 142292, 'CTR:0.00063', 'cost:5067136.0', 'CPM:35.61', 'eCPC:2826.07']\n",
      "['c:', 80, 'lambda:', 4.550000000000001e-06, 'click:', 88, 'impression:', 126091, 'CTR:0.00070', 'cost:4189858.0', 'CPM:33.23', 'eCPC:2336.79']\n"
     ]
    }
   ],
   "source": [
    "lambda_range = list(np.arange(5e-8, 5e-6, 5e-7))\n",
    "\n",
    "c_range = list([1,10,20,30,40,50,60,70, 80])\n",
    "\n",
    "ORTBbids = []\n",
    "clambda = []\n",
    "\n",
    "for c in c_range:\n",
    "    for lambdas in lambda_range:\n",
    "        #clambda.append((c,lambdas))\n",
    "        bidprice=bid_linear(c, lambdas,predCTR2)   \n",
    "        #ORTBbids.append(ORTBbid)\n",
    "        \n",
    "        estimator = evaluate(bidprice)\n",
    "        result_GBDT = ['c:',c,'lambda:',lambdas, 'click:',estimator[0], 'impression:',estimator[1],\n",
    "          'CTR:%.5f'% estimator[2], 'cost:%.1f'% estimator[3], 'CPM:%.2f'% estimator[4], 'eCPC:%.2f'% estimator[5]]\n",
    "        print(result_GBDT) "
   ]
  },
  {
   "cell_type": "code",
   "execution_count": null,
   "metadata": {},
   "outputs": [],
   "source": []
  },
  {
   "cell_type": "markdown",
   "metadata": {},
   "source": [
    "# 3.CNN"
   ]
  },
  {
   "cell_type": "code",
   "execution_count": 63,
   "metadata": {},
   "outputs": [],
   "source": [
    "pre_test_cnn = pd.read_csv(\"predproba_val_nn.csv\", index_col=0)"
   ]
  },
  {
   "cell_type": "code",
   "execution_count": 64,
   "metadata": {},
   "outputs": [
    {
     "data": {
      "text/html": [
       "<div>\n",
       "<style scoped>\n",
       "    .dataframe tbody tr th:only-of-type {\n",
       "        vertical-align: middle;\n",
       "    }\n",
       "\n",
       "    .dataframe tbody tr th {\n",
       "        vertical-align: top;\n",
       "    }\n",
       "\n",
       "    .dataframe thead th {\n",
       "        text-align: right;\n",
       "    }\n",
       "</style>\n",
       "<table border=\"1\" class=\"dataframe\">\n",
       "  <thead>\n",
       "    <tr style=\"text-align: right;\">\n",
       "      <th></th>\n",
       "      <th>0</th>\n",
       "    </tr>\n",
       "  </thead>\n",
       "  <tbody>\n",
       "    <tr>\n",
       "      <th>0</th>\n",
       "      <td>0.000226</td>\n",
       "    </tr>\n",
       "    <tr>\n",
       "      <th>1</th>\n",
       "      <td>0.000037</td>\n",
       "    </tr>\n",
       "    <tr>\n",
       "      <th>2</th>\n",
       "      <td>-0.000000</td>\n",
       "    </tr>\n",
       "    <tr>\n",
       "      <th>3</th>\n",
       "      <td>-0.000000</td>\n",
       "    </tr>\n",
       "    <tr>\n",
       "      <th>4</th>\n",
       "      <td>-0.000000</td>\n",
       "    </tr>\n",
       "  </tbody>\n",
       "</table>\n",
       "</div>"
      ],
      "text/plain": [
       "          0\n",
       "0  0.000226\n",
       "1  0.000037\n",
       "2 -0.000000\n",
       "3 -0.000000\n",
       "4 -0.000000"
      ]
     },
     "execution_count": 64,
     "metadata": {},
     "output_type": "execute_result"
    }
   ],
   "source": [
    "pre_test_cnn.head()"
   ]
  },
  {
   "cell_type": "code",
   "execution_count": 66,
   "metadata": {},
   "outputs": [
    {
     "data": {
      "text/html": [
       "<div>\n",
       "<style scoped>\n",
       "    .dataframe tbody tr th:only-of-type {\n",
       "        vertical-align: middle;\n",
       "    }\n",
       "\n",
       "    .dataframe tbody tr th {\n",
       "        vertical-align: top;\n",
       "    }\n",
       "\n",
       "    .dataframe thead th {\n",
       "        text-align: right;\n",
       "    }\n",
       "</style>\n",
       "<table border=\"1\" class=\"dataframe\">\n",
       "  <thead>\n",
       "    <tr style=\"text-align: right;\">\n",
       "      <th></th>\n",
       "      <th>pCTR</th>\n",
       "    </tr>\n",
       "  </thead>\n",
       "  <tbody>\n",
       "    <tr>\n",
       "      <th>0</th>\n",
       "      <td>0.000226</td>\n",
       "    </tr>\n",
       "    <tr>\n",
       "      <th>1</th>\n",
       "      <td>0.000037</td>\n",
       "    </tr>\n",
       "    <tr>\n",
       "      <th>2</th>\n",
       "      <td>-0.000000</td>\n",
       "    </tr>\n",
       "    <tr>\n",
       "      <th>3</th>\n",
       "      <td>-0.000000</td>\n",
       "    </tr>\n",
       "    <tr>\n",
       "      <th>4</th>\n",
       "      <td>-0.000000</td>\n",
       "    </tr>\n",
       "  </tbody>\n",
       "</table>\n",
       "</div>"
      ],
      "text/plain": [
       "       pCTR\n",
       "0  0.000226\n",
       "1  0.000037\n",
       "2 -0.000000\n",
       "3 -0.000000\n",
       "4 -0.000000"
      ]
     },
     "execution_count": 66,
     "metadata": {},
     "output_type": "execute_result"
    }
   ],
   "source": [
    "pre_test_cnn.columns=['pCTR']\n",
    "pre_test_cnn = pre_test_cnn['pCTR']\n",
    "pre_test_cnn = pd.DataFrame(pre_test_cnn,columns=['pCTR'])\n",
    "pre_test_cnn.head()"
   ]
  },
  {
   "cell_type": "code",
   "execution_count": 68,
   "metadata": {},
   "outputs": [],
   "source": [
    "pre3 = pd.DataFrame(pre_test_cnn)\n",
    "predCTR3=pre3"
   ]
  },
  {
   "cell_type": "code",
   "execution_count": 69,
   "metadata": {},
   "outputs": [
    {
     "name": "stdout",
     "output_type": "stream",
     "text": [
      "['c:', 1, 'lambda:', 5e-08, 'click:', 0, 'impression:', 3, 'CTR:0.00000', 'cost:51.0', 'CPM:17.00', 'eCPC:0.03']\n",
      "['c:', 1, 'lambda:', 5.5e-07, 'click:', 0, 'impression:', 1, 'CTR:0.00000', 'cost:6.0', 'CPM:6.00', 'eCPC:0.00']\n",
      "['c:', 1, 'lambda:', 1.0500000000000001e-06, 'click:', 0, 'impression:', 1, 'CTR:0.00000', 'cost:6.0', 'CPM:6.00', 'eCPC:0.00']\n",
      "['c:', 1, 'lambda:', 1.5500000000000002e-06, 'click:', 0, 'impression:', 1, 'CTR:0.00000', 'cost:6.0', 'CPM:6.00', 'eCPC:0.00']\n",
      "['c:', 1, 'lambda:', 2.0500000000000003e-06, 'click:', 0, 'impression:', 1, 'CTR:0.00000', 'cost:6.0', 'CPM:6.00', 'eCPC:0.00']\n"
     ]
    },
    {
     "ename": "ZeroDivisionError",
     "evalue": "division by zero",
     "output_type": "error",
     "traceback": [
      "\u001b[0;31m---------------------------------------------------------------------------\u001b[0m",
      "\u001b[0;31mZeroDivisionError\u001b[0m                         Traceback (most recent call last)",
      "\u001b[0;32m<ipython-input-69-b681f9cd74e1>\u001b[0m in \u001b[0;36m<module>\u001b[0;34m()\u001b[0m\n\u001b[1;32m     12\u001b[0m         \u001b[0;31m#ORTBbids.append(ORTBbid)\u001b[0m\u001b[0;34m\u001b[0m\u001b[0;34m\u001b[0m\u001b[0m\n\u001b[1;32m     13\u001b[0m \u001b[0;34m\u001b[0m\u001b[0m\n\u001b[0;32m---> 14\u001b[0;31m         \u001b[0mestimator\u001b[0m \u001b[0;34m=\u001b[0m \u001b[0mevaluate\u001b[0m\u001b[0;34m(\u001b[0m\u001b[0mbidprice\u001b[0m\u001b[0;34m)\u001b[0m\u001b[0;34m\u001b[0m\u001b[0m\n\u001b[0m\u001b[1;32m     15\u001b[0m         result_cnn = ['c:',c,'lambda:',lambdas, 'click:',estimator[0], 'impression:',estimator[1],\n\u001b[1;32m     16\u001b[0m           'CTR:%.5f'% estimator[2], 'cost:%.1f'% estimator[3], 'CPM:%.2f'% estimator[4], 'eCPC:%.2f'% estimator[5]]\n",
      "\u001b[0;32m<ipython-input-16-a04f2d758049>\u001b[0m in \u001b[0;36mevaluate\u001b[0;34m(bidprice)\u001b[0m\n\u001b[1;32m     12\u001b[0m                 \u001b[0mclick\u001b[0m\u001b[0;34m=\u001b[0m\u001b[0mclick\u001b[0m\u001b[0;34m+\u001b[0m\u001b[0;36m1\u001b[0m\u001b[0;34m\u001b[0m\u001b[0m\n\u001b[1;32m     13\u001b[0m     \u001b[0mCost\u001b[0m \u001b[0;34m=\u001b[0m \u001b[0;36m6250000\u001b[0m \u001b[0;34m-\u001b[0m \u001b[0mbudget\u001b[0m\u001b[0;34m\u001b[0m\u001b[0m\n\u001b[0;32m---> 14\u001b[0;31m     \u001b[0mCTR\u001b[0m \u001b[0;34m=\u001b[0m \u001b[0mclick\u001b[0m\u001b[0;34m/\u001b[0m\u001b[0mimpression\u001b[0m\u001b[0;34m\u001b[0m\u001b[0m\n\u001b[0m\u001b[1;32m     15\u001b[0m \u001b[0;34m\u001b[0m\u001b[0m\n\u001b[1;32m     16\u001b[0m     \u001b[0;31m#CPM: Cost per mille\u001b[0m\u001b[0;34m\u001b[0m\u001b[0;34m\u001b[0m\u001b[0m\n",
      "\u001b[0;31mZeroDivisionError\u001b[0m: division by zero"
     ]
    }
   ],
   "source": [
    "lambda_range = list(np.arange(5e-8, 5e-6, 5e-7))\n",
    "\n",
    "c_range = list([1,10,20,30,40,50,60,70, 80])\n",
    "\n",
    "ORTBbids = []\n",
    "clambda = []\n",
    "\n",
    "for c in c_range:\n",
    "    for lambdas in lambda_range:\n",
    "        #clambda.append((c,lambdas))\n",
    "        bidprice=bid_linear(c, lambdas,predCTR3)   \n",
    "        #ORTBbids.append(ORTBbid)\n",
    "        \n",
    "        estimator = evaluate(bidprice)\n",
    "        result_cnn = ['c:',c,'lambda:',lambdas, 'click:',estimator[0], 'impression:',estimator[1],\n",
    "          'CTR:%.5f'% estimator[2], 'cost:%.1f'% estimator[3], 'CPM:%.2f'% estimator[4], 'eCPC:%.2f'% estimator[5]]\n",
    "        print(result_cnn) "
   ]
  },
  {
   "cell_type": "code",
   "execution_count": null,
   "metadata": {},
   "outputs": [],
   "source": [
    "result_cnn = result_cnn.sort_values('click',ascending=[False]).reset_index(drop=True)\n",
    "result_cnn.head()"
   ]
  },
  {
   "cell_type": "markdown",
   "metadata": {},
   "source": [
    "# 4.Xgboost"
   ]
  },
  {
   "cell_type": "code",
   "execution_count": 82,
   "metadata": {},
   "outputs": [],
   "source": [
    "pre_test_xg = pd.read_csv(\"dval_predprob_xgboost169.csv\")"
   ]
  },
  {
   "cell_type": "code",
   "execution_count": 83,
   "metadata": {},
   "outputs": [
    {
     "data": {
      "text/html": [
       "<div>\n",
       "<style scoped>\n",
       "    .dataframe tbody tr th:only-of-type {\n",
       "        vertical-align: middle;\n",
       "    }\n",
       "\n",
       "    .dataframe tbody tr th {\n",
       "        vertical-align: top;\n",
       "    }\n",
       "\n",
       "    .dataframe thead th {\n",
       "        text-align: right;\n",
       "    }\n",
       "</style>\n",
       "<table border=\"1\" class=\"dataframe\">\n",
       "  <thead>\n",
       "    <tr style=\"text-align: right;\">\n",
       "      <th></th>\n",
       "      <th>pCTR</th>\n",
       "    </tr>\n",
       "  </thead>\n",
       "  <tbody>\n",
       "    <tr>\n",
       "      <th>0</th>\n",
       "      <td>0.004979</td>\n",
       "    </tr>\n",
       "    <tr>\n",
       "      <th>1</th>\n",
       "      <td>0.004057</td>\n",
       "    </tr>\n",
       "    <tr>\n",
       "      <th>2</th>\n",
       "      <td>0.003082</td>\n",
       "    </tr>\n",
       "    <tr>\n",
       "      <th>3</th>\n",
       "      <td>0.002263</td>\n",
       "    </tr>\n",
       "    <tr>\n",
       "      <th>4</th>\n",
       "      <td>0.002135</td>\n",
       "    </tr>\n",
       "  </tbody>\n",
       "</table>\n",
       "</div>"
      ],
      "text/plain": [
       "       pCTR\n",
       "0  0.004979\n",
       "1  0.004057\n",
       "2  0.003082\n",
       "3  0.002263\n",
       "4  0.002135"
      ]
     },
     "execution_count": 83,
     "metadata": {},
     "output_type": "execute_result"
    }
   ],
   "source": [
    "pre_test_xg.head()"
   ]
  },
  {
   "cell_type": "code",
   "execution_count": 84,
   "metadata": {},
   "outputs": [],
   "source": [
    "pre4 = pd.DataFrame(pre_test_xg)\n",
    "predCTR4=pre4"
   ]
  },
  {
   "cell_type": "code",
   "execution_count": 85,
   "metadata": {},
   "outputs": [
    {
     "name": "stdout",
     "output_type": "stream",
     "text": [
      "<class 'pandas.core.frame.DataFrame'>\n",
      "RangeIndex: 303925 entries, 0 to 303924\n",
      "Data columns (total 1 columns):\n",
      "pCTR    303925 non-null float64\n",
      "dtypes: float64(1)\n",
      "memory usage: 2.3 MB\n"
     ]
    }
   ],
   "source": [
    "predCTR4.info()"
   ]
  },
  {
   "cell_type": "code",
   "execution_count": 86,
   "metadata": {},
   "outputs": [
    {
     "name": "stdout",
     "output_type": "stream",
     "text": [
      "['c:', 1, 'lambda:', 5e-08, 'click:', 51, 'impression:', 80085, 'CTR:0.00064', 'cost:6250000.0', 'CPM:78.04', 'eCPC:3485.78']\n",
      "['c:', 1, 'lambda:', 5.5e-07, 'click:', 79, 'impression:', 110305, 'CTR:0.00072', 'cost:6250000.0', 'CPM:56.66', 'eCPC:3485.78']\n",
      "['c:', 1, 'lambda:', 1.0500000000000001e-06, 'click:', 103, 'impression:', 129380, 'CTR:0.00080', 'cost:6250000.0', 'CPM:48.31', 'eCPC:3485.78']\n",
      "['c:', 1, 'lambda:', 1.5500000000000002e-06, 'click:', 133, 'impression:', 144960, 'CTR:0.00092', 'cost:6250000.0', 'CPM:43.12', 'eCPC:3485.78']\n",
      "['c:', 1, 'lambda:', 2.0500000000000003e-06, 'click:', 150, 'impression:', 150982, 'CTR:0.00099', 'cost:5928489.0', 'CPM:39.27', 'eCPC:3306.46']\n",
      "['c:', 1, 'lambda:', 2.5500000000000006e-06, 'click:', 145, 'impression:', 134826, 'CTR:0.00108', 'cost:4869782.0', 'CPM:36.12', 'eCPC:2716.00']\n",
      "['c:', 1, 'lambda:', 3.0500000000000004e-06, 'click:', 136, 'impression:', 122703, 'CTR:0.00111', 'cost:4122828.0', 'CPM:33.60', 'eCPC:2299.40']\n",
      "['c:', 1, 'lambda:', 3.5500000000000003e-06, 'click:', 127, 'impression:', 113617, 'CTR:0.00112', 'cost:3590772.0', 'CPM:31.60', 'eCPC:2002.66']\n",
      "['c:', 1, 'lambda:', 4.050000000000001e-06, 'click:', 126, 'impression:', 106248, 'CTR:0.00119', 'cost:3179602.0', 'CPM:29.93', 'eCPC:1773.34']\n",
      "['c:', 1, 'lambda:', 4.550000000000001e-06, 'click:', 125, 'impression:', 100036, 'CTR:0.00125', 'cost:2849828.0', 'CPM:28.49', 'eCPC:1589.42']\n",
      "['c:', 10, 'lambda:', 5e-08, 'click:', 51, 'impression:', 79760, 'CTR:0.00064', 'cost:6250000.0', 'CPM:78.36', 'eCPC:3485.78']\n",
      "['c:', 10, 'lambda:', 5.5e-07, 'click:', 51, 'impression:', 80365, 'CTR:0.00063', 'cost:6250000.0', 'CPM:77.77', 'eCPC:3485.78']\n",
      "['c:', 10, 'lambda:', 1.0500000000000001e-06, 'click:', 54, 'impression:', 83635, 'CTR:0.00065', 'cost:6250000.0', 'CPM:74.73', 'eCPC:3485.78']\n",
      "['c:', 10, 'lambda:', 1.5500000000000002e-06, 'click:', 59, 'impression:', 87804, 'CTR:0.00067', 'cost:6250000.0', 'CPM:71.18', 'eCPC:3485.78']\n",
      "['c:', 10, 'lambda:', 2.0500000000000003e-06, 'click:', 62, 'impression:', 92073, 'CTR:0.00067', 'cost:6250000.0', 'CPM:67.88', 'eCPC:3485.78']\n",
      "['c:', 10, 'lambda:', 2.5500000000000006e-06, 'click:', 65, 'impression:', 95979, 'CTR:0.00068', 'cost:6250000.0', 'CPM:65.12', 'eCPC:3485.78']\n",
      "['c:', 10, 'lambda:', 3.0500000000000004e-06, 'click:', 66, 'impression:', 99441, 'CTR:0.00066', 'cost:6250000.0', 'CPM:62.85', 'eCPC:3485.78']\n",
      "['c:', 10, 'lambda:', 3.5500000000000003e-06, 'click:', 71, 'impression:', 102674, 'CTR:0.00069', 'cost:6250000.0', 'CPM:60.87', 'eCPC:3485.78']\n",
      "['c:', 10, 'lambda:', 4.050000000000001e-06, 'click:', 77, 'impression:', 105732, 'CTR:0.00073', 'cost:6250000.0', 'CPM:59.11', 'eCPC:3485.78']\n",
      "['c:', 10, 'lambda:', 4.550000000000001e-06, 'click:', 76, 'impression:', 108636, 'CTR:0.00070', 'cost:6250000.0', 'CPM:57.53', 'eCPC:3485.78']\n",
      "['c:', 20, 'lambda:', 5e-08, 'click:', 51, 'impression:', 79760, 'CTR:0.00064', 'cost:6250000.0', 'CPM:78.36', 'eCPC:3485.78']\n",
      "['c:', 20, 'lambda:', 5.5e-07, 'click:', 51, 'impression:', 79807, 'CTR:0.00064', 'cost:6250000.0', 'CPM:78.31', 'eCPC:3485.78']\n",
      "['c:', 20, 'lambda:', 1.0500000000000001e-06, 'click:', 51, 'impression:', 80432, 'CTR:0.00063', 'cost:6250000.0', 'CPM:77.71', 'eCPC:3485.78']\n",
      "['c:', 20, 'lambda:', 1.5500000000000002e-06, 'click:', 53, 'impression:', 82018, 'CTR:0.00065', 'cost:6250000.0', 'CPM:76.20', 'eCPC:3485.78']\n",
      "['c:', 20, 'lambda:', 2.0500000000000003e-06, 'click:', 54, 'impression:', 84131, 'CTR:0.00064', 'cost:6250000.0', 'CPM:74.29', 'eCPC:3485.78']\n",
      "['c:', 20, 'lambda:', 2.5500000000000006e-06, 'click:', 57, 'impression:', 86476, 'CTR:0.00066', 'cost:6250000.0', 'CPM:72.27', 'eCPC:3485.78']\n",
      "['c:', 20, 'lambda:', 3.0500000000000004e-06, 'click:', 61, 'impression:', 88926, 'CTR:0.00069', 'cost:6250000.0', 'CPM:70.28', 'eCPC:3485.78']\n",
      "['c:', 20, 'lambda:', 3.5500000000000003e-06, 'click:', 62, 'impression:', 91218, 'CTR:0.00068', 'cost:6250000.0', 'CPM:68.52', 'eCPC:3485.78']\n",
      "['c:', 20, 'lambda:', 4.050000000000001e-06, 'click:', 62, 'impression:', 93502, 'CTR:0.00066', 'cost:6250000.0', 'CPM:66.84', 'eCPC:3485.78']\n",
      "['c:', 20, 'lambda:', 4.550000000000001e-06, 'click:', 65, 'impression:', 95699, 'CTR:0.00068', 'cost:6250000.0', 'CPM:65.31', 'eCPC:3485.78']\n",
      "['c:', 30, 'lambda:', 5e-08, 'click:', 51, 'impression:', 79760, 'CTR:0.00064', 'cost:6250000.0', 'CPM:78.36', 'eCPC:3485.78']\n",
      "['c:', 30, 'lambda:', 5.5e-07, 'click:', 51, 'impression:', 79780, 'CTR:0.00064', 'cost:6250000.0', 'CPM:78.34', 'eCPC:3485.78']\n",
      "['c:', 30, 'lambda:', 1.0500000000000001e-06, 'click:', 51, 'impression:', 79922, 'CTR:0.00064', 'cost:6250000.0', 'CPM:78.20', 'eCPC:3485.78']\n",
      "['c:', 30, 'lambda:', 1.5500000000000002e-06, 'click:', 51, 'impression:', 80576, 'CTR:0.00063', 'cost:6250000.0', 'CPM:77.57', 'eCPC:3485.78']\n",
      "['c:', 30, 'lambda:', 2.0500000000000003e-06, 'click:', 52, 'impression:', 81747, 'CTR:0.00064', 'cost:6250000.0', 'CPM:76.46', 'eCPC:3485.78']\n",
      "['c:', 30, 'lambda:', 2.5500000000000006e-06, 'click:', 54, 'impression:', 83208, 'CTR:0.00065', 'cost:6250000.0', 'CPM:75.11', 'eCPC:3485.78']\n",
      "['c:', 30, 'lambda:', 3.0500000000000004e-06, 'click:', 54, 'impression:', 84773, 'CTR:0.00064', 'cost:6250000.0', 'CPM:73.73', 'eCPC:3485.78']\n",
      "['c:', 30, 'lambda:', 3.5500000000000003e-06, 'click:', 57, 'impression:', 86545, 'CTR:0.00066', 'cost:6250000.0', 'CPM:72.22', 'eCPC:3485.78']\n",
      "['c:', 30, 'lambda:', 4.050000000000001e-06, 'click:', 60, 'impression:', 88319, 'CTR:0.00068', 'cost:6250000.0', 'CPM:70.77', 'eCPC:3485.78']\n",
      "['c:', 30, 'lambda:', 4.550000000000001e-06, 'click:', 61, 'impression:', 90128, 'CTR:0.00068', 'cost:6250000.0', 'CPM:69.35', 'eCPC:3485.78']\n",
      "['c:', 40, 'lambda:', 5e-08, 'click:', 51, 'impression:', 79760, 'CTR:0.00064', 'cost:6250000.0', 'CPM:78.36', 'eCPC:3485.78']\n",
      "['c:', 40, 'lambda:', 5.5e-07, 'click:', 51, 'impression:', 79760, 'CTR:0.00064', 'cost:6250000.0', 'CPM:78.36', 'eCPC:3485.78']\n",
      "['c:', 40, 'lambda:', 1.0500000000000001e-06, 'click:', 51, 'impression:', 79821, 'CTR:0.00064', 'cost:6250000.0', 'CPM:78.30', 'eCPC:3485.78']\n",
      "['c:', 40, 'lambda:', 1.5500000000000002e-06, 'click:', 51, 'impression:', 80115, 'CTR:0.00064', 'cost:6250000.0', 'CPM:78.01', 'eCPC:3485.78']\n",
      "['c:', 40, 'lambda:', 2.0500000000000003e-06, 'click:', 52, 'impression:', 80778, 'CTR:0.00064', 'cost:6250000.0', 'CPM:77.37', 'eCPC:3485.78']\n",
      "['c:', 40, 'lambda:', 2.5500000000000006e-06, 'click:', 52, 'impression:', 81744, 'CTR:0.00064', 'cost:6250000.0', 'CPM:76.46', 'eCPC:3485.78']\n",
      "['c:', 40, 'lambda:', 3.0500000000000004e-06, 'click:', 54, 'impression:', 82973, 'CTR:0.00065', 'cost:6250000.0', 'CPM:75.33', 'eCPC:3485.78']\n",
      "['c:', 40, 'lambda:', 3.5500000000000003e-06, 'click:', 54, 'impression:', 84154, 'CTR:0.00064', 'cost:6250000.0', 'CPM:74.27', 'eCPC:3485.78']\n",
      "['c:', 40, 'lambda:', 4.050000000000001e-06, 'click:', 55, 'impression:', 85560, 'CTR:0.00064', 'cost:6250000.0', 'CPM:73.05', 'eCPC:3485.78']\n",
      "['c:', 40, 'lambda:', 4.550000000000001e-06, 'click:', 57, 'impression:', 86930, 'CTR:0.00066', 'cost:6250000.0', 'CPM:71.90', 'eCPC:3485.78']\n",
      "['c:', 50, 'lambda:', 5e-08, 'click:', 51, 'impression:', 79760, 'CTR:0.00064', 'cost:6250000.0', 'CPM:78.36', 'eCPC:3485.78']\n",
      "['c:', 50, 'lambda:', 5.5e-07, 'click:', 51, 'impression:', 79760, 'CTR:0.00064', 'cost:6250000.0', 'CPM:78.36', 'eCPC:3485.78']\n",
      "['c:', 50, 'lambda:', 1.0500000000000001e-06, 'click:', 51, 'impression:', 79803, 'CTR:0.00064', 'cost:6250000.0', 'CPM:78.32', 'eCPC:3485.78']\n",
      "['c:', 50, 'lambda:', 1.5500000000000002e-06, 'click:', 51, 'impression:', 79930, 'CTR:0.00064', 'cost:6250000.0', 'CPM:78.19', 'eCPC:3485.78']\n",
      "['c:', 50, 'lambda:', 2.0500000000000003e-06, 'click:', 51, 'impression:', 80323, 'CTR:0.00063', 'cost:6250000.0', 'CPM:77.81', 'eCPC:3485.78']\n",
      "['c:', 50, 'lambda:', 2.5500000000000006e-06, 'click:', 52, 'impression:', 81029, 'CTR:0.00064', 'cost:6250000.0', 'CPM:77.13', 'eCPC:3485.78']\n",
      "['c:', 50, 'lambda:', 3.0500000000000004e-06, 'click:', 52, 'impression:', 81840, 'CTR:0.00064', 'cost:6250000.0', 'CPM:76.37', 'eCPC:3485.78']\n",
      "['c:', 50, 'lambda:', 3.5500000000000003e-06, 'click:', 54, 'impression:', 82912, 'CTR:0.00065', 'cost:6250000.0', 'CPM:75.38', 'eCPC:3485.78']\n",
      "['c:', 50, 'lambda:', 4.050000000000001e-06, 'click:', 54, 'impression:', 83982, 'CTR:0.00064', 'cost:6250000.0', 'CPM:74.42', 'eCPC:3485.78']\n"
     ]
    },
    {
     "name": "stdout",
     "output_type": "stream",
     "text": [
      "['c:', 50, 'lambda:', 4.550000000000001e-06, 'click:', 54, 'impression:', 85109, 'CTR:0.00063', 'cost:6250000.0', 'CPM:73.44', 'eCPC:3485.78']\n",
      "['c:', 60, 'lambda:', 5e-08, 'click:', 51, 'impression:', 79760, 'CTR:0.00064', 'cost:6250000.0', 'CPM:78.36', 'eCPC:3485.78']\n",
      "['c:', 60, 'lambda:', 5.5e-07, 'click:', 51, 'impression:', 79760, 'CTR:0.00064', 'cost:6250000.0', 'CPM:78.36', 'eCPC:3485.78']\n",
      "['c:', 60, 'lambda:', 1.0500000000000001e-06, 'click:', 51, 'impression:', 79787, 'CTR:0.00064', 'cost:6250000.0', 'CPM:78.33', 'eCPC:3485.78']\n",
      "['c:', 60, 'lambda:', 1.5500000000000002e-06, 'click:', 51, 'impression:', 79867, 'CTR:0.00064', 'cost:6250000.0', 'CPM:78.26', 'eCPC:3485.78']\n",
      "['c:', 60, 'lambda:', 2.0500000000000003e-06, 'click:', 51, 'impression:', 80116, 'CTR:0.00064', 'cost:6250000.0', 'CPM:78.01', 'eCPC:3485.78']\n",
      "['c:', 60, 'lambda:', 2.5500000000000006e-06, 'click:', 51, 'impression:', 80556, 'CTR:0.00063', 'cost:6250000.0', 'CPM:77.59', 'eCPC:3485.78']\n",
      "['c:', 60, 'lambda:', 3.0500000000000004e-06, 'click:', 52, 'impression:', 81265, 'CTR:0.00064', 'cost:6250000.0', 'CPM:76.91', 'eCPC:3485.78']\n",
      "['c:', 60, 'lambda:', 3.5500000000000003e-06, 'click:', 53, 'impression:', 82013, 'CTR:0.00065', 'cost:6250000.0', 'CPM:76.21', 'eCPC:3485.78']\n",
      "['c:', 60, 'lambda:', 4.050000000000001e-06, 'click:', 54, 'impression:', 83010, 'CTR:0.00065', 'cost:6250000.0', 'CPM:75.29', 'eCPC:3485.78']\n",
      "['c:', 60, 'lambda:', 4.550000000000001e-06, 'click:', 54, 'impression:', 83965, 'CTR:0.00064', 'cost:6250000.0', 'CPM:74.44', 'eCPC:3485.78']\n",
      "['c:', 70, 'lambda:', 5e-08, 'click:', 51, 'impression:', 79760, 'CTR:0.00064', 'cost:6250000.0', 'CPM:78.36', 'eCPC:3485.78']\n",
      "['c:', 70, 'lambda:', 5.5e-07, 'click:', 51, 'impression:', 79760, 'CTR:0.00064', 'cost:6250000.0', 'CPM:78.36', 'eCPC:3485.78']\n",
      "['c:', 70, 'lambda:', 1.0500000000000001e-06, 'click:', 51, 'impression:', 79781, 'CTR:0.00064', 'cost:6250000.0', 'CPM:78.34', 'eCPC:3485.78']\n",
      "['c:', 70, 'lambda:', 1.5500000000000002e-06, 'click:', 51, 'impression:', 79821, 'CTR:0.00064', 'cost:6250000.0', 'CPM:78.30', 'eCPC:3485.78']\n",
      "['c:', 70, 'lambda:', 2.0500000000000003e-06, 'click:', 51, 'impression:', 79986, 'CTR:0.00064', 'cost:6250000.0', 'CPM:78.14', 'eCPC:3485.78']\n",
      "['c:', 70, 'lambda:', 2.5500000000000006e-06, 'click:', 51, 'impression:', 80300, 'CTR:0.00064', 'cost:6250000.0', 'CPM:77.83', 'eCPC:3485.78']\n",
      "['c:', 70, 'lambda:', 3.0500000000000004e-06, 'click:', 52, 'impression:', 80841, 'CTR:0.00064', 'cost:6250000.0', 'CPM:77.31', 'eCPC:3485.78']\n",
      "['c:', 70, 'lambda:', 3.5500000000000003e-06, 'click:', 52, 'impression:', 81544, 'CTR:0.00064', 'cost:6250000.0', 'CPM:76.65', 'eCPC:3485.78']\n",
      "['c:', 70, 'lambda:', 4.050000000000001e-06, 'click:', 54, 'impression:', 82268, 'CTR:0.00066', 'cost:6250000.0', 'CPM:75.97', 'eCPC:3485.78']\n",
      "['c:', 70, 'lambda:', 4.550000000000001e-06, 'click:', 54, 'impression:', 83144, 'CTR:0.00065', 'cost:6250000.0', 'CPM:75.17', 'eCPC:3485.78']\n",
      "['c:', 80, 'lambda:', 5e-08, 'click:', 51, 'impression:', 79760, 'CTR:0.00064', 'cost:6250000.0', 'CPM:78.36', 'eCPC:3485.78']\n",
      "['c:', 80, 'lambda:', 5.5e-07, 'click:', 51, 'impression:', 79760, 'CTR:0.00064', 'cost:6250000.0', 'CPM:78.36', 'eCPC:3485.78']\n",
      "['c:', 80, 'lambda:', 1.0500000000000001e-06, 'click:', 51, 'impression:', 79769, 'CTR:0.00064', 'cost:6250000.0', 'CPM:78.35', 'eCPC:3485.78']\n",
      "['c:', 80, 'lambda:', 1.5500000000000002e-06, 'click:', 51, 'impression:', 79815, 'CTR:0.00064', 'cost:6250000.0', 'CPM:78.31', 'eCPC:3485.78']\n",
      "['c:', 80, 'lambda:', 2.0500000000000003e-06, 'click:', 51, 'impression:', 79918, 'CTR:0.00064', 'cost:6250000.0', 'CPM:78.21', 'eCPC:3485.78']\n",
      "['c:', 80, 'lambda:', 2.5500000000000006e-06, 'click:', 51, 'impression:', 80151, 'CTR:0.00064', 'cost:6250000.0', 'CPM:77.98', 'eCPC:3485.78']\n",
      "['c:', 80, 'lambda:', 3.0500000000000004e-06, 'click:', 51, 'impression:', 80563, 'CTR:0.00063', 'cost:6250000.0', 'CPM:77.58', 'eCPC:3485.78']\n",
      "['c:', 80, 'lambda:', 3.5500000000000003e-06, 'click:', 52, 'impression:', 81169, 'CTR:0.00064', 'cost:6250000.0', 'CPM:77.00', 'eCPC:3485.78']\n",
      "['c:', 80, 'lambda:', 4.050000000000001e-06, 'click:', 52, 'impression:', 81758, 'CTR:0.00064', 'cost:6250000.0', 'CPM:76.45', 'eCPC:3485.78']\n",
      "['c:', 80, 'lambda:', 4.550000000000001e-06, 'click:', 54, 'impression:', 82539, 'CTR:0.00065', 'cost:6250000.0', 'CPM:75.72', 'eCPC:3485.78']\n"
     ]
    }
   ],
   "source": [
    "lambda_range = list(np.arange(5e-8, 5e-6, 5e-7))\n",
    "\n",
    "c_range = list([1,10,20,30,40,50,60,70, 80])\n",
    "\n",
    "ORTBbids = []\n",
    "clambda = []\n",
    "\n",
    "for c in c_range:\n",
    "    for lambdas in lambda_range:\n",
    "        #clambda.append((c,lambdas))\n",
    "        bidprice=bid_linear(c, lambdas,predCTR4)   \n",
    "        #ORTBbids.append(ORTBbid)\n",
    "        \n",
    "        estimator = evaluate(bidprice)\n",
    "        result_xg = ['c:',c,'lambda:',lambdas, 'click:',estimator[0], 'impression:',estimator[1],\n",
    "          'CTR:%.5f'% estimator[2], 'cost:%.1f'% estimator[3], 'CPM:%.2f'% estimator[4], 'eCPC:%.2f'% estimator[5]]\n",
    "        print(result_xg) "
   ]
  }
 ],
 "metadata": {
  "kernelspec": {
   "display_name": "Python [default]",
   "language": "python",
   "name": "python3"
  },
  "language_info": {
   "codemirror_mode": {
    "name": "ipython",
    "version": 3
   },
   "file_extension": ".py",
   "mimetype": "text/x-python",
   "name": "python",
   "nbconvert_exporter": "python",
   "pygments_lexer": "ipython3",
   "version": "3.6.4"
  }
 },
 "nbformat": 4,
 "nbformat_minor": 2
}
