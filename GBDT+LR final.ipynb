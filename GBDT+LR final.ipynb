{
 "cells": [
  {
   "cell_type": "code",
   "execution_count": 85,
   "metadata": {
    "collapsed": true
   },
   "outputs": [],
   "source": [
    "from __future__ import division\n",
    "import lightgbm as lgb\n",
    "import pandas as pd\n",
    "import numpy as np\n",
    "from sklearn.metrics import mean_squared_error\n",
    "from sklearn.linear_model import LogisticRegression\n",
    "\n",
    "import matplotlib.pylab as plt\n",
    "%matplotlib inline\n",
    "from matplotlib import pyplot\n",
    "\n",
    "from sklearn.preprocessing import LabelEncoder, OneHotEncoder"
   ]
  },
  {
   "cell_type": "code",
   "execution_count": 2,
   "metadata": {
    "collapsed": true
   },
   "outputs": [],
   "source": [
    "# load dataset\n",
    "df_train = pd.read_csv(\"train.csv\")\n",
    "df_test = pd.read_csv(\"test.csv\")\n",
    "df_validation = pd.read_csv(\"validation.csv\")"
   ]
  },
  {
   "cell_type": "code",
   "execution_count": 3,
   "metadata": {},
   "outputs": [
    {
     "name": "stdout",
     "output_type": "stream",
     "text": [
      "<class 'pandas.core.frame.DataFrame'>\n",
      "RangeIndex: 2430981 entries, 0 to 2430980\n",
      "Data columns (total 25 columns):\n",
      "click             int64\n",
      "weekday           int64\n",
      "hour              int64\n",
      "bidid             object\n",
      "userid            object\n",
      "useragent         object\n",
      "IP                object\n",
      "region            int64\n",
      "city              int64\n",
      "adexchange        object\n",
      "domain            object\n",
      "url               object\n",
      "urlid             object\n",
      "slotid            object\n",
      "slotwidth         int64\n",
      "slotheight        int64\n",
      "slotvisibility    object\n",
      "slotformat        object\n",
      "slotprice         int64\n",
      "creative          object\n",
      "bidprice          int64\n",
      "payprice          int64\n",
      "keypage           object\n",
      "advertiser        int64\n",
      "usertag           object\n",
      "dtypes: int64(11), object(14)\n",
      "memory usage: 463.7+ MB\n"
     ]
    }
   ],
   "source": [
    "df_train.info()"
   ]
  },
  {
   "cell_type": "code",
   "execution_count": 4,
   "metadata": {
    "collapsed": true
   },
   "outputs": [],
   "source": [
    "#feature match- train set\n",
    "labelencoder_X_1 = LabelEncoder()\n",
    "df_train.useragent = labelencoder_X_1.fit_transform(df_train.useragent)\n",
    "labelencoder_X_2 = LabelEncoder()\n",
    "df_train.slotvisibility = labelencoder_X_2.fit_transform(df_train.slotvisibility)\n",
    "labelencoder_X_3 = LabelEncoder()\n",
    "df_train.slotformat = labelencoder_X_3.fit_transform(df_train.slotformat)\n",
    "labelencoder_X_4 = LabelEncoder()\n",
    "df_train.usertag = labelencoder_X_1.fit_transform(df_train.usertag)"
   ]
  },
  {
   "cell_type": "code",
   "execution_count": 5,
   "metadata": {
    "collapsed": true
   },
   "outputs": [],
   "source": [
    "#feature match-test set\n",
    "df_test.useragent = labelencoder_X_1.fit_transform(df_test.useragent)\n",
    "df_test.slotvisibility = labelencoder_X_2.fit_transform(df_test.slotvisibility)\n",
    "df_test.slotformat = labelencoder_X_3.fit_transform(df_test.slotformat)\n",
    "df_test.usertag = labelencoder_X_1.fit_transform(df_test.usertag)\n",
    "\n",
    "#feature match-validation set\n",
    "df_validation.useragent = labelencoder_X_1.fit_transform(df_validation.useragent)\n",
    "df_validation.slotvisibility = labelencoder_X_2.fit_transform(df_validation.slotvisibility)\n",
    "df_validation.slotformat = labelencoder_X_3.fit_transform(df_validation.slotformat)\n",
    "df_validation.usertag = labelencoder_X_1.fit_transform(df_validation.usertag)"
   ]
  },
  {
   "cell_type": "code",
   "execution_count": 6,
   "metadata": {},
   "outputs": [
    {
     "name": "stdout",
     "output_type": "stream",
     "text": [
      "<class 'pandas.core.frame.DataFrame'>\n",
      "RangeIndex: 2430981 entries, 0 to 2430980\n",
      "Data columns (total 25 columns):\n",
      "click             int64\n",
      "weekday           int64\n",
      "hour              int64\n",
      "bidid             object\n",
      "userid            object\n",
      "useragent         int64\n",
      "IP                object\n",
      "region            int64\n",
      "city              int64\n",
      "adexchange        object\n",
      "domain            object\n",
      "url               object\n",
      "urlid             object\n",
      "slotid            object\n",
      "slotwidth         int64\n",
      "slotheight        int64\n",
      "slotvisibility    int64\n",
      "slotformat        int64\n",
      "slotprice         int64\n",
      "creative          object\n",
      "bidprice          int64\n",
      "payprice          int64\n",
      "keypage           object\n",
      "advertiser        int64\n",
      "usertag           int64\n",
      "dtypes: int64(15), object(10)\n",
      "memory usage: 463.7+ MB\n"
     ]
    }
   ],
   "source": [
    "df_train.info()"
   ]
  },
  {
   "cell_type": "code",
   "execution_count": 40,
   "metadata": {
    "collapsed": true
   },
   "outputs": [],
   "source": [
    "X_train = df_train[['weekday', 'hour','useragent','region','slotwidth','slotheight','slotvisibility', 'slotformat',\"usertag\"]]  # training dataset\n",
    "y_train = df_train[\"click\"]  # training label\n",
    "X_test = df_test[['weekday', 'hour','useragent','region','slotwidth','slotheight','slotvisibility', 'slotformat',\"usertag\"]]  # testing dataset\n",
    "X_validation = df_validation[['weekday', 'hour','useragent','region','slotwidth','slotheight','slotvisibility', 'slotformat',\"usertag\"]] # validation dataset\n",
    "y_validation = df_validation[\"click\"]"
   ]
  },
  {
   "cell_type": "code",
   "execution_count": 31,
   "metadata": {
    "collapsed": true
   },
   "outputs": [],
   "source": [
    "#sample\n",
    "#train_sample = df_train.sample(frac=0.1, random_state = 2)\n",
    "#X_train = train_sample[['weekday', 'hour','useragent','region','slotwidth','slotheight','slotvisibility', 'slotformat',\"usertag\"]]  # training dataset\n",
    "#y_train = train_sample[\"click\"]  # training label"
   ]
  },
  {
   "cell_type": "code",
   "execution_count": 41,
   "metadata": {
    "collapsed": true
   },
   "outputs": [],
   "source": [
    "# create dataset for lightgbm\n",
    "lgb_train = lgb.Dataset(X_train, y_train)"
   ]
  },
  {
   "cell_type": "code",
   "execution_count": null,
   "metadata": {
    "collapsed": true
   },
   "outputs": [],
   "source": []
  },
  {
   "cell_type": "code",
   "execution_count": 43,
   "metadata": {
    "collapsed": true
   },
   "outputs": [],
   "source": [
    "params = {\n",
    "    'task': 'train',\n",
    "    'boosting_type': 'gbdt',\n",
    "    'objective': 'binary',\n",
    "    'metric': {'binary_logloss'},\n",
    "    'num_leaves': 10,\n",
    "    'num_trees': 20,\n",
    "    'learning_rate': 0.1,\n",
    "    'feature_fraction': 0.8,\n",
    "    'bagging_fraction': 0.5,\n",
    "    'bagging_freq': 10,\n",
    "    'verbose': 0}\n",
    "\n",
    "num_leaf = 10 "
   ]
  },
  {
   "cell_type": "code",
   "execution_count": 44,
   "metadata": {},
   "outputs": [
    {
     "name": "stdout",
     "output_type": "stream",
     "text": [
      "Start training...\n"
     ]
    },
    {
     "name": "stderr",
     "output_type": "stream",
     "text": [
      "D:\\Anaconda\\lib\\site-packages\\lightgbm\\engine.py:99: UserWarning: Found `num_trees` in params. Will use it instead of argument\n",
      "  warnings.warn(\"Found `{}` in params. Will use it instead of argument\".format(alias))\n"
     ]
    },
    {
     "name": "stdout",
     "output_type": "stream",
     "text": [
      "[1]\ttraining's binary_logloss: 0.598416\n",
      "[2]\ttraining's binary_logloss: 0.52083\n",
      "[3]\ttraining's binary_logloss: 0.456142\n",
      "[4]\ttraining's binary_logloss: 0.40147\n",
      "[5]\ttraining's binary_logloss: 0.354773\n",
      "[6]\ttraining's binary_logloss: 0.314556\n",
      "[7]\ttraining's binary_logloss: 0.279684\n",
      "[8]\ttraining's binary_logloss: 0.249276\n",
      "[9]\ttraining's binary_logloss: 0.222637\n",
      "[10]\ttraining's binary_logloss: 0.199208\n",
      "[11]\ttraining's binary_logloss: 0.178536\n",
      "[12]\ttraining's binary_logloss: 0.160242\n",
      "[13]\ttraining's binary_logloss: 0.144013\n",
      "[14]\ttraining's binary_logloss: 0.129585\n",
      "[15]\ttraining's binary_logloss: 0.116736\n",
      "[16]\ttraining's binary_logloss: 0.105273\n",
      "[17]\ttraining's binary_logloss: 0.0950338\n",
      "[18]\ttraining's binary_logloss: 0.085875\n",
      "[19]\ttraining's binary_logloss: 0.0776752\n",
      "[20]\ttraining's binary_logloss: 0.0703264\n"
     ]
    }
   ],
   "source": [
    "print('Start training...')\n",
    "# train\n",
    "gbm = lgb.train(params, lgb_train, num_boost_round=100,valid_sets=lgb_train)"
   ]
  },
  {
   "cell_type": "code",
   "execution_count": 22,
   "metadata": {},
   "outputs": [
    {
     "name": "stdout",
     "output_type": "stream",
     "text": [
      "Start predicting...\n"
     ]
    }
   ],
   "source": [
    "print('Start predicting...')"
   ]
  },
  {
   "cell_type": "code",
   "execution_count": 45,
   "metadata": {
    "collapsed": true
   },
   "outputs": [],
   "source": [
    "# predict and get data on leaves, training data\n",
    "y_pred_train = gbm.predict(X_train,pred_leaf=True)"
   ]
  },
  {
   "cell_type": "code",
   "execution_count": 46,
   "metadata": {},
   "outputs": [
    {
     "name": "stdout",
     "output_type": "stream",
     "text": [
      "Writing transformed training data\n"
     ]
    }
   ],
   "source": [
    "# feature transformation\n",
    "print('Writing transformed training data')\n",
    "transformed_training_matrix = np.zeros([len(y_pred_train),len(y_pred_train[0]) * num_leaf],dtype=np.int64)\n",
    "for i in range(0,len(y_pred_train)):\n",
    "    temp = np.arange(len(y_pred_train[0])) * num_leaf - 1 + np.array(y_pred_train[i])\n",
    "    transformed_training_matrix[i][temp] += 1"
   ]
  },
  {
   "cell_type": "code",
   "execution_count": 25,
   "metadata": {
    "collapsed": true
   },
   "outputs": [],
   "source": [
    "# predict and get data on leaves, testing data\n",
    "y_pred_test = gbm.predict(X_test,pred_leaf=True)"
   ]
  },
  {
   "cell_type": "code",
   "execution_count": 26,
   "metadata": {},
   "outputs": [
    {
     "name": "stdout",
     "output_type": "stream",
     "text": [
      "Writing transformed testing data\n"
     ]
    }
   ],
   "source": [
    "# feature transformation and write result\n",
    "print('Writing transformed testing data')\n",
    "transformed_testing_matrix = np.zeros([len(y_pred_test),len(y_pred_test[0]) * num_leaf],dtype=np.int64)\n",
    "for i in range(0,len(y_pred_test)):\n",
    "    temp = np.arange(len(y_pred_test[0])) * num_leaf - 1 + np.array(y_pred_test[i])\n",
    "    transformed_testing_matrix[i][temp] += 1"
   ]
  },
  {
   "cell_type": "code",
   "execution_count": 27,
   "metadata": {
    "collapsed": true
   },
   "outputs": [],
   "source": [
    "#predict and get data on leaves, valication data\n",
    "y_pred_validation = gbm.predict(X_validation, pred_leaf = True)"
   ]
  },
  {
   "cell_type": "code",
   "execution_count": 28,
   "metadata": {},
   "outputs": [
    {
     "name": "stdout",
     "output_type": "stream",
     "text": [
      "Writing transformed valication data\n"
     ]
    }
   ],
   "source": [
    "# feature transformation\n",
    "print('Writing transformed valication data')\n",
    "transformed_validation_matrix = np.zeros([len(y_pred_validation),len(y_pred_validation[0]) * num_leaf],dtype=np.int64)\n",
    "for i in range(0,len(y_pred_validation)):\n",
    "    temp = np.arange(len(y_pred_validation[0])) * num_leaf - 1 + np.array(y_pred_validation[i])\n",
    "    transformed_validation_matrix[i][temp] += 1"
   ]
  },
  {
   "cell_type": "code",
   "execution_count": null,
   "metadata": {
    "collapsed": true
   },
   "outputs": [],
   "source": []
  },
  {
   "cell_type": "code",
   "execution_count": 47,
   "metadata": {},
   "outputs": [
    {
     "name": "stdout",
     "output_type": "stream",
     "text": [
      "Calculate feature importances...\n",
      "Feature importances: [6, 20, 33, 8, 18, 4, 19, 18, 54]\n",
      "Feature importances: [14.821348041296005, 41.212521016597748, 131.85225331783295, 28.236856758594513, 26.874969303607941, 19.014273643493652, 78.409914970397949, 87.613746345043182, 233.91251078248024]\n"
     ]
    }
   ],
   "source": [
    "print('Calculate feature importances...')\n",
    "# feature importances\n",
    "print('Feature importances:', list(gbm.feature_importance()))\n",
    "print('Feature importances:', list(gbm.feature_importance(\"gain\")))"
   ]
  },
  {
   "cell_type": "code",
   "execution_count": null,
   "metadata": {
    "collapsed": true
   },
   "outputs": [],
   "source": []
  },
  {
   "cell_type": "code",
   "execution_count": 48,
   "metadata": {},
   "outputs": [
    {
     "data": {
      "text/plain": [
       "(2430981, 200)"
      ]
     },
     "execution_count": 48,
     "metadata": {},
     "output_type": "execute_result"
    }
   ],
   "source": [
    "transformed_training_matrix.shape"
   ]
  },
  {
   "cell_type": "code",
   "execution_count": 49,
   "metadata": {},
   "outputs": [
    {
     "ename": "MemoryError",
     "evalue": "",
     "output_type": "error",
     "traceback": [
      "\u001b[1;31m---------------------------------------------------------------------------\u001b[0m",
      "\u001b[1;31mMemoryError\u001b[0m                               Traceback (most recent call last)",
      "\u001b[1;32m<ipython-input-49-ca43f2abb4e5>\u001b[0m in \u001b[0;36m<module>\u001b[1;34m()\u001b[0m\n\u001b[0;32m      2\u001b[0m \u001b[1;32mfor\u001b[0m \u001b[0mt\u001b[0m \u001b[1;32min\u001b[0m \u001b[0mrange\u001b[0m\u001b[1;33m(\u001b[0m\u001b[1;36m0\u001b[0m\u001b[1;33m,\u001b[0m\u001b[0mlen\u001b[0m\u001b[1;33m(\u001b[0m\u001b[0mc\u001b[0m\u001b[1;33m)\u001b[0m\u001b[1;33m)\u001b[0m\u001b[1;33m:\u001b[0m\u001b[1;33m\u001b[0m\u001b[0m\n\u001b[0;32m      3\u001b[0m     \u001b[0mlm\u001b[0m \u001b[1;33m=\u001b[0m \u001b[0mLogisticRegression\u001b[0m\u001b[1;33m(\u001b[0m\u001b[0mpenalty\u001b[0m\u001b[1;33m=\u001b[0m\u001b[1;34m'l2'\u001b[0m\u001b[1;33m,\u001b[0m\u001b[0mC\u001b[0m\u001b[1;33m=\u001b[0m\u001b[0mc\u001b[0m\u001b[1;33m[\u001b[0m\u001b[0mt\u001b[0m\u001b[1;33m]\u001b[0m\u001b[1;33m)\u001b[0m \u001b[1;31m# logestic model construction\u001b[0m\u001b[1;33m\u001b[0m\u001b[0m\n\u001b[1;32m----> 4\u001b[1;33m     \u001b[0mlm\u001b[0m\u001b[1;33m.\u001b[0m\u001b[0mfit\u001b[0m\u001b[1;33m(\u001b[0m\u001b[0mtransformed_training_matrix\u001b[0m\u001b[1;33m,\u001b[0m\u001b[0my_train\u001b[0m\u001b[1;33m)\u001b[0m  \u001b[1;31m# fitting the data\u001b[0m\u001b[1;33m\u001b[0m\u001b[0m\n\u001b[0m\u001b[0;32m      5\u001b[0m \u001b[1;33m\u001b[0m\u001b[0m\n\u001b[0;32m      6\u001b[0m     \u001b[0my_pred_train_label\u001b[0m \u001b[1;33m=\u001b[0m \u001b[0mlm\u001b[0m\u001b[1;33m.\u001b[0m\u001b[0mpredict\u001b[0m\u001b[1;33m(\u001b[0m\u001b[0mtransformed_training_matrix\u001b[0m \u001b[1;33m)\u001b[0m  \u001b[1;31m# For training data\u001b[0m\u001b[1;33m\u001b[0m\u001b[0m\n",
      "\u001b[1;32mD:\\Anaconda\\lib\\site-packages\\sklearn\\linear_model\\logistic.py\u001b[0m in \u001b[0;36mfit\u001b[1;34m(self, X, y, sample_weight)\u001b[0m\n\u001b[0;32m   1214\u001b[0m \u001b[1;33m\u001b[0m\u001b[0m\n\u001b[0;32m   1215\u001b[0m         X, y = check_X_y(X, y, accept_sparse='csr', dtype=_dtype,\n\u001b[1;32m-> 1216\u001b[1;33m                          order=\"C\")\n\u001b[0m\u001b[0;32m   1217\u001b[0m         \u001b[0mcheck_classification_targets\u001b[0m\u001b[1;33m(\u001b[0m\u001b[0my\u001b[0m\u001b[1;33m)\u001b[0m\u001b[1;33m\u001b[0m\u001b[0m\n\u001b[0;32m   1218\u001b[0m         \u001b[0mself\u001b[0m\u001b[1;33m.\u001b[0m\u001b[0mclasses_\u001b[0m \u001b[1;33m=\u001b[0m \u001b[0mnp\u001b[0m\u001b[1;33m.\u001b[0m\u001b[0munique\u001b[0m\u001b[1;33m(\u001b[0m\u001b[0my\u001b[0m\u001b[1;33m)\u001b[0m\u001b[1;33m\u001b[0m\u001b[0m\n",
      "\u001b[1;32mD:\\Anaconda\\lib\\site-packages\\sklearn\\utils\\validation.py\u001b[0m in \u001b[0;36mcheck_X_y\u001b[1;34m(X, y, accept_sparse, dtype, order, copy, force_all_finite, ensure_2d, allow_nd, multi_output, ensure_min_samples, ensure_min_features, y_numeric, warn_on_dtype, estimator)\u001b[0m\n\u001b[0;32m    540\u001b[0m     X = check_array(X, accept_sparse, dtype, order, copy, force_all_finite,\n\u001b[0;32m    541\u001b[0m                     \u001b[0mensure_2d\u001b[0m\u001b[1;33m,\u001b[0m \u001b[0mallow_nd\u001b[0m\u001b[1;33m,\u001b[0m \u001b[0mensure_min_samples\u001b[0m\u001b[1;33m,\u001b[0m\u001b[1;33m\u001b[0m\u001b[0m\n\u001b[1;32m--> 542\u001b[1;33m                     ensure_min_features, warn_on_dtype, estimator)\n\u001b[0m\u001b[0;32m    543\u001b[0m     \u001b[1;32mif\u001b[0m \u001b[0mmulti_output\u001b[0m\u001b[1;33m:\u001b[0m\u001b[1;33m\u001b[0m\u001b[0m\n\u001b[0;32m    544\u001b[0m         y = check_array(y, 'csr', force_all_finite=True, ensure_2d=False,\n",
      "\u001b[1;32mD:\\Anaconda\\lib\\site-packages\\sklearn\\utils\\validation.py\u001b[0m in \u001b[0;36mcheck_array\u001b[1;34m(array, accept_sparse, dtype, order, copy, force_all_finite, ensure_2d, allow_nd, ensure_min_samples, ensure_min_features, warn_on_dtype, estimator)\u001b[0m\n\u001b[0;32m    400\u001b[0m                                       force_all_finite)\n\u001b[0;32m    401\u001b[0m     \u001b[1;32melse\u001b[0m\u001b[1;33m:\u001b[0m\u001b[1;33m\u001b[0m\u001b[0m\n\u001b[1;32m--> 402\u001b[1;33m         \u001b[0marray\u001b[0m \u001b[1;33m=\u001b[0m \u001b[0mnp\u001b[0m\u001b[1;33m.\u001b[0m\u001b[0marray\u001b[0m\u001b[1;33m(\u001b[0m\u001b[0marray\u001b[0m\u001b[1;33m,\u001b[0m \u001b[0mdtype\u001b[0m\u001b[1;33m=\u001b[0m\u001b[0mdtype\u001b[0m\u001b[1;33m,\u001b[0m \u001b[0morder\u001b[0m\u001b[1;33m=\u001b[0m\u001b[0morder\u001b[0m\u001b[1;33m,\u001b[0m \u001b[0mcopy\u001b[0m\u001b[1;33m=\u001b[0m\u001b[0mcopy\u001b[0m\u001b[1;33m)\u001b[0m\u001b[1;33m\u001b[0m\u001b[0m\n\u001b[0m\u001b[0;32m    403\u001b[0m \u001b[1;33m\u001b[0m\u001b[0m\n\u001b[0;32m    404\u001b[0m         \u001b[1;32mif\u001b[0m \u001b[0mensure_2d\u001b[0m\u001b[1;33m:\u001b[0m\u001b[1;33m\u001b[0m\u001b[0m\n",
      "\u001b[1;31mMemoryError\u001b[0m: "
     ]
    }
   ],
   "source": [
    "c = np.array([1,0.5,0.1,0.05,0.01,0.005,0.001])\n",
    "for t in range(0,len(c)):\n",
    "    lm = LogisticRegression(penalty='l2',C=c[t]) # logestic model construction\n",
    "    lm.fit(transformed_training_matrix,y_train)  # fitting the data\n",
    "\n",
    "    y_pred_train_label = lm.predict(transformed_training_matrix )  # For training data\n",
    "    y_pred_test_label = lm.predict(transformed_testing_matrix)    # For testing data\n",
    "    y_pred_validation_label = lm.predict(transformed_validation_matrix)    # For validation data\n",
    "    y_pred_train_est = lm.predict_proba(transformed_training_matrix)   # Give the probabilty on each label\n",
    "    y_pred_test_est = lm.predict_proba(transformed_testing_matrix)   # Give the probabilty on each label\n",
    "    y_pred_validation_est = lm.predict_proba(transformed_validation_matrix)   # Give the probabilty on each label"
   ]
  },
  {
   "cell_type": "code",
   "execution_count": 39,
   "metadata": {},
   "outputs": [
    {
     "name": "stdout",
     "output_type": "stream",
     "text": [
      "[[ 0.99654309  0.00345691]\n",
      " [ 0.99654309  0.00345691]\n",
      " [ 0.99654309  0.00345691]\n",
      " ..., \n",
      " [ 0.99654309  0.00345691]\n",
      " [ 0.99654309  0.00345691]\n",
      " [ 0.99654309  0.00345691]]\n"
     ]
    }
   ],
   "source": [
    "print(y_pred_validation_est)"
   ]
  },
  {
   "cell_type": "code",
   "execution_count": 66,
   "metadata": {
    "collapsed": true
   },
   "outputs": [],
   "source": [
    "result2 = pd.DataFrame(y_pred_validation_est)\n",
    "result2.to_csv(\"GBDT result2.csv\")"
   ]
  },
  {
   "cell_type": "code",
   "execution_count": 67,
   "metadata": {},
   "outputs": [
    {
     "name": "stdout",
     "output_type": "stream",
     "text": [
      "penalty parameter is 0.001\n",
      "prediction accuracy is 0.9985720161223987\n"
     ]
    }
   ],
   "source": [
    "# calculate predict accuracy\n",
    "num = 0\n",
    "for i in range(0,len(y_pred_validation_label)):\n",
    "    if y_validation[i] == y_pred_validation_label[i]:\n",
    "        if y_train[i] == y_pred_train_label[i]:\n",
    "            num += 1\n",
    "print('penalty parameter is '+ str(c[t]))\n",
    "print(\"prediction accuracy is \" + str((num)/len(y_pred_validation_label)))"
   ]
  },
  {
   "cell_type": "code",
   "execution_count": null,
   "metadata": {
    "collapsed": true
   },
   "outputs": [],
   "source": []
  },
  {
   "cell_type": "code",
   "execution_count": null,
   "metadata": {
    "collapsed": true
   },
   "outputs": [],
   "source": []
  },
  {
   "cell_type": "markdown",
   "metadata": {},
   "source": [
    "# predicting clicks"
   ]
  },
  {
   "cell_type": "code",
   "execution_count": 57,
   "metadata": {
    "collapsed": true
   },
   "outputs": [],
   "source": [
    "pre_test = pd.read_csv(\"GBDT result2.csv\", sep=',')"
   ]
  },
  {
   "cell_type": "code",
   "execution_count": 51,
   "metadata": {},
   "outputs": [
    {
     "data": {
      "text/plain": [
       "303925"
      ]
     },
     "execution_count": 51,
     "metadata": {},
     "output_type": "execute_result"
    }
   ],
   "source": [
    "len(pre_test)"
   ]
  },
  {
   "cell_type": "code",
   "execution_count": 54,
   "metadata": {},
   "outputs": [
    {
     "data": {
      "text/plain": [
       "303925"
      ]
     },
     "execution_count": 54,
     "metadata": {},
     "output_type": "execute_result"
    }
   ],
   "source": [
    "len(df_validation)"
   ]
  },
  {
   "cell_type": "code",
   "execution_count": 58,
   "metadata": {
    "collapsed": true
   },
   "outputs": [],
   "source": [
    "#Select pCTR from outputs\n",
    "pre_test.columns=['index','0','pCTR']\n",
    "pre_test = pre_test['pCTR']\n",
    "pre_test = pd.DataFrame(pre_test,columns=['pCTR'])"
   ]
  },
  {
   "cell_type": "code",
   "execution_count": 59,
   "metadata": {
    "collapsed": true
   },
   "outputs": [],
   "source": [
    "pre2 = pd.DataFrame(pre_test)\n",
    "predCTR=pre2"
   ]
  },
  {
   "cell_type": "code",
   "execution_count": 60,
   "metadata": {},
   "outputs": [
    {
     "data": {
      "text/plain": [
       "303925"
      ]
     },
     "execution_count": 60,
     "metadata": {},
     "output_type": "execute_result"
    }
   ],
   "source": [
    "len(predCTR)"
   ]
  },
  {
   "cell_type": "code",
   "execution_count": 62,
   "metadata": {},
   "outputs": [
    {
     "data": {
      "text/plain": [
       "0.0007383985358870749"
      ]
     },
     "execution_count": 62,
     "metadata": {},
     "output_type": "execute_result"
    }
   ],
   "source": [
    "clicks = len(df_train[df_train.click==1])\n",
    "impression = len(df_train[df_train.bidprice>df_train.payprice])\n",
    "aCTR=clicks/impression\n",
    "aCTR"
   ]
  },
  {
   "cell_type": "code",
   "execution_count": 67,
   "metadata": {
    "collapsed": true
   },
   "outputs": [],
   "source": [
    "def evaluate(bidprice):\n",
    "    budget=6250000\n",
    "    impression=0\n",
    "    click=0\n",
    "    for row in range(0,df_validation.shape[0]):\n",
    "        if budget<df_validation.payprice[row]:\n",
    "            continue\n",
    "        if bidprice.iloc[row,0]>df_validation.payprice[row]:\n",
    "            budget=budget-df_validation.payprice[row]\n",
    "            impression=impression+1\n",
    "            if df_validation.click[row]==1:\n",
    "                click=click+1\n",
    "    Cost = 6250000 - budget\n",
    "    CTR = click/impression\n",
    "    \n",
    "    #CPM: Cost per mille \n",
    "    CPM = Cost/impression\n",
    "\n",
    "    #eCPC: effective Cost per Click\n",
    "    eCPC = Cost/clicks\n",
    "    estimator = [click,impression,CTR,Cost,CPM,eCPC]\n",
    "    #estimator = [click,Cost]\n",
    "    return  estimator"
   ]
  },
  {
   "cell_type": "code",
   "execution_count": 64,
   "metadata": {
    "collapsed": true
   },
   "outputs": [],
   "source": [
    "#validation set\n",
    "def bid_linear(basebid, pred_CTR,avg_CTR):\n",
    "    bid = np.zeros((df_validation.shape[0], 1))\n",
    "    for i in range (0,df_validation.shape[0]):\n",
    "        bid[i,0] = basebid*pred_CTR.pCTR.iloc[i]/avg_CTR\n",
    "    bid = pd.DataFrame(bid)\n",
    "    return bid"
   ]
  },
  {
   "cell_type": "code",
   "execution_count": 65,
   "metadata": {
    "collapsed": true
   },
   "outputs": [],
   "source": [
    "#train set\n",
    "def bid_linear2(basebid, pred_CTR,avg_CTR):\n",
    "    bid = np.zeros((df_test.shape[0], 1))\n",
    "    for i in range (0,df_test.shape[0]):\n",
    "        bid[i,0] = basebid*pred_CTR.pCTR.iloc[i]/avg_CTR\n",
    "    bid = pd.DataFrame(bid)\n",
    "    return bid"
   ]
  },
  {
   "cell_type": "code",
   "execution_count": null,
   "metadata": {},
   "outputs": [],
   "source": [
    "####Put base_bid range here to see clicks perfomance\n",
    "for counter in np.arange(55,80):\n",
    "    base_bid=counter\n",
    "    bidprice=bid_linear(base_bid, predCTR, aCTR)\n",
    "    estimator = evaluate(bidprice)\n",
    "    print('basebid:',base_bid, 'click:',estimator[0], 'impression:',estimator[1],\n",
    "         'CTR:%.5f'% estimator[2], 'cost:%.1f'% estimator[3], 'CPM:%.2f'% estimator[4], 'eCPC:%.2f'% estimator[5]) "
   ]
  },
  {
   "cell_type": "code",
   "execution_count": null,
   "metadata": {
    "collapsed": true
   },
   "outputs": [],
   "source": [
    "result = bid_linear(79,predCTR, aCTR)\n",
    "result.columns=['bidprice']\n",
    "bidid = pd.DataFrame(test, columns=['bidid'])\n",
    "final = pd.concat([bidid,result], axis=1)\n",
    "final.head()"
   ]
  },
  {
   "cell_type": "code",
   "execution_count": null,
   "metadata": {
    "collapsed": true
   },
   "outputs": [],
   "source": []
  },
  {
   "cell_type": "markdown",
   "metadata": {},
   "source": [
    "# Plotting"
   ]
  },
  {
   "cell_type": "code",
   "execution_count": 73,
   "metadata": {},
   "outputs": [
    {
     "data": {
      "text/html": [
       "<div>\n",
       "<style>\n",
       "    .dataframe thead tr:only-child th {\n",
       "        text-align: right;\n",
       "    }\n",
       "\n",
       "    .dataframe thead th {\n",
       "        text-align: left;\n",
       "    }\n",
       "\n",
       "    .dataframe tbody tr th {\n",
       "        vertical-align: top;\n",
       "    }\n",
       "</style>\n",
       "<table border=\"1\" class=\"dataframe\">\n",
       "  <thead>\n",
       "    <tr style=\"text-align: right;\">\n",
       "      <th></th>\n",
       "      <th>pCTR</th>\n",
       "    </tr>\n",
       "  </thead>\n",
       "  <tbody>\n",
       "    <tr>\n",
       "      <th>0</th>\n",
       "      <td>0.000588</td>\n",
       "    </tr>\n",
       "    <tr>\n",
       "      <th>1</th>\n",
       "      <td>0.000658</td>\n",
       "    </tr>\n",
       "    <tr>\n",
       "      <th>2</th>\n",
       "      <td>0.000588</td>\n",
       "    </tr>\n",
       "    <tr>\n",
       "      <th>3</th>\n",
       "      <td>0.000588</td>\n",
       "    </tr>\n",
       "    <tr>\n",
       "      <th>4</th>\n",
       "      <td>0.000658</td>\n",
       "    </tr>\n",
       "  </tbody>\n",
       "</table>\n",
       "</div>"
      ],
      "text/plain": [
       "       pCTR\n",
       "0  0.000588\n",
       "1  0.000658\n",
       "2  0.000588\n",
       "3  0.000588\n",
       "4  0.000658"
      ]
     },
     "execution_count": 73,
     "metadata": {},
     "output_type": "execute_result"
    }
   ],
   "source": [
    "pre_test.head()"
   ]
  },
  {
   "cell_type": "code",
   "execution_count": 74,
   "metadata": {
    "collapsed": true
   },
   "outputs": [],
   "source": [
    "pre_test[\"click 0 pro\"] = 1 - pre_test[\"pCTR\"]"
   ]
  },
  {
   "cell_type": "code",
   "execution_count": 75,
   "metadata": {},
   "outputs": [
    {
     "data": {
      "text/html": [
       "<div>\n",
       "<style>\n",
       "    .dataframe thead tr:only-child th {\n",
       "        text-align: right;\n",
       "    }\n",
       "\n",
       "    .dataframe thead th {\n",
       "        text-align: left;\n",
       "    }\n",
       "\n",
       "    .dataframe tbody tr th {\n",
       "        vertical-align: top;\n",
       "    }\n",
       "</style>\n",
       "<table border=\"1\" class=\"dataframe\">\n",
       "  <thead>\n",
       "    <tr style=\"text-align: right;\">\n",
       "      <th></th>\n",
       "      <th>pCTR</th>\n",
       "      <th>click 0 pro</th>\n",
       "    </tr>\n",
       "  </thead>\n",
       "  <tbody>\n",
       "    <tr>\n",
       "      <th>0</th>\n",
       "      <td>0.000588</td>\n",
       "      <td>0.999412</td>\n",
       "    </tr>\n",
       "    <tr>\n",
       "      <th>1</th>\n",
       "      <td>0.000658</td>\n",
       "      <td>0.999342</td>\n",
       "    </tr>\n",
       "    <tr>\n",
       "      <th>2</th>\n",
       "      <td>0.000588</td>\n",
       "      <td>0.999412</td>\n",
       "    </tr>\n",
       "    <tr>\n",
       "      <th>3</th>\n",
       "      <td>0.000588</td>\n",
       "      <td>0.999412</td>\n",
       "    </tr>\n",
       "    <tr>\n",
       "      <th>4</th>\n",
       "      <td>0.000658</td>\n",
       "      <td>0.999342</td>\n",
       "    </tr>\n",
       "  </tbody>\n",
       "</table>\n",
       "</div>"
      ],
      "text/plain": [
       "       pCTR  click 0 pro\n",
       "0  0.000588     0.999412\n",
       "1  0.000658     0.999342\n",
       "2  0.000588     0.999412\n",
       "3  0.000588     0.999412\n",
       "4  0.000658     0.999342"
      ]
     },
     "execution_count": 75,
     "metadata": {},
     "output_type": "execute_result"
    }
   ],
   "source": [
    "pre_test.head()"
   ]
  },
  {
   "cell_type": "code",
   "execution_count": 76,
   "metadata": {
    "collapsed": true
   },
   "outputs": [],
   "source": [
    "dval_predprob1 = pre_test[\"pCTR\"]\n",
    "dval_predprob0 = pre_test[\"click 0 pro\"]"
   ]
  },
  {
   "cell_type": "code",
   "execution_count": 84,
   "metadata": {},
   "outputs": [
    {
     "data": {
      "image/png": "[encoded data removed]",
      "text/plain": [
       "<matplotlib.figure.Figure at 0x2e0460c3da0>"
      ]
     },
     "metadata": {},
     "output_type": "display_data"
    }
   ],
   "source": [
    "plt.figure(figsize = (7,4))\n",
    "\n",
    "plt.subplot(121)\n",
    "\n",
    "width = 0.6\n",
    "pyplot.hist(dval_predprob1, bins = 1500, alpha=0.5, label='Model_GBDT+LR')\n",
    "plt.xlabel('probability', fontsize=10)\n",
    "plt.ylabel('Frequency', fontsize=10)\n",
    "plt.title('Predicted probabilities for clicks = 1', fontsize=13)\n",
    "plt.xlim(0, 0.001)\n",
    "#plot a line(plz change the value to suits)\n",
    "plt.axvline(0.0042, color = 'grey', linestyle = '--', linewidth = 1)\n",
    "pyplot.legend(loc='upper center')\n",
    "\n",
    "\n",
    "plt.subplot(122)\n",
    "width = 0.6\n",
    "pyplot.hist(dval_predprob0, bins = 1500, alpha=0.5, label='Model_GBDT+LR')\n",
    "plt.ylabel('Frequency', fontsize=10)\n",
    "plt.title('Predicted probabilities for clicks = 0', fontsize=13)\n",
    "plt.axvline(0.995, color = 'grey', linestyle = '--', linewidth = 1)\n",
    "pyplot.legend(loc='upper center')\n",
    "plt.xlim(0.999, 1.0)\n",
    "\n",
    "plt.tight_layout()\n",
    "plt.show()"
   ]
  },
  {
   "cell_type": "code",
   "execution_count": null,
   "metadata": {
    "collapsed": true
   },
   "outputs": [],
   "source": []
  }
 ],
 "metadata": {
  "kernelspec": {
   "display_name": "Python 3",
   "language": "python",
   "name": "python3"
  },
  "language_info": {
   "codemirror_mode": {
    "name": "ipython",
    "version": 3
   },
   "file_extension": ".py",
   "mimetype": "text/x-python",
   "name": "python",
   "nbconvert_exporter": "python",
   "pygments_lexer": "ipython3",
   "version": "3.6.2"
  }
 },
 "nbformat": 4,
 "nbformat_minor": 2
}
